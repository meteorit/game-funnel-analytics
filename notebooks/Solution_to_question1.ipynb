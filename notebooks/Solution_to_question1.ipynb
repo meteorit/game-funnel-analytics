{
 "cells": [
  {
   "cell_type": "markdown",
   "metadata": {},
   "source": [
    "# Solution to Question 1"
   ]
  },
  {
   "cell_type": "markdown",
   "metadata": {},
   "source": [
    "## Python imports\n",
    "\n",
    "Before executing code cells we load some required packages and initiate database connection."
   ]
  },
  {
   "cell_type": "code",
   "execution_count": 2,
   "metadata": {},
   "outputs": [
    {
     "name": "stdout",
     "output_type": "stream",
     "text": [
      "/Users/sampsa/Projects/rannala_project\n"
     ]
    }
   ],
   "source": [
    "import os # directory pathfinding\n",
    "if 'notebooks' in os.getcwd(): # make sure jupyter server is in project root\n",
    "    %cd .."
   ]
  },
  {
   "cell_type": "code",
   "execution_count": 4,
   "metadata": {
    "jupyter": {
     "source_hidden": true
    }
   },
   "outputs": [
    {
     "ename": "AttributeError",
     "evalue": "module 'pandas' has no attribute 'core'",
     "output_type": "error",
     "traceback": [
      "\u001b[0;31m---------------------------------------------------------------------------\u001b[0m",
      "\u001b[0;31mAttributeError\u001b[0m                            Traceback (most recent call last)",
      "\u001b[0;32m<ipython-input-4-66a909d2b649>\u001b[0m in \u001b[0;36m<module>\u001b[0;34m\u001b[0m\n\u001b[0;32m----> 1\u001b[0;31m \u001b[0;32mimport\u001b[0m \u001b[0maltair\u001b[0m \u001b[0;32mas\u001b[0m \u001b[0malt\u001b[0m \u001b[0;31m# visualization library\u001b[0m\u001b[0;34m\u001b[0m\u001b[0;34m\u001b[0m\u001b[0m\n\u001b[0m\u001b[1;32m      2\u001b[0m \u001b[0;32mimport\u001b[0m \u001b[0mnumpy\u001b[0m \u001b[0;32mas\u001b[0m \u001b[0mnp\u001b[0m  \u001b[0;31m# linear algebra\u001b[0m\u001b[0;34m\u001b[0m\u001b[0;34m\u001b[0m\u001b[0m\n\u001b[1;32m      3\u001b[0m \u001b[0;32mimport\u001b[0m \u001b[0mpandas\u001b[0m \u001b[0;32mas\u001b[0m \u001b[0mpd\u001b[0m  \u001b[0;31m# data processing\u001b[0m\u001b[0;34m\u001b[0m\u001b[0;34m\u001b[0m\u001b[0m\n\u001b[1;32m      4\u001b[0m \u001b[0;32mfrom\u001b[0m \u001b[0mIPython\u001b[0m\u001b[0;34m.\u001b[0m\u001b[0mdisplay\u001b[0m \u001b[0;32mimport\u001b[0m \u001b[0mdisplay\u001b[0m \u001b[0;31m# show interactive sliders\u001b[0m\u001b[0;34m\u001b[0m\u001b[0;34m\u001b[0m\u001b[0m\n\u001b[1;32m      5\u001b[0m \u001b[0;32mfrom\u001b[0m \u001b[0mipywidgets\u001b[0m \u001b[0;32mimport\u001b[0m \u001b[0minteract\u001b[0m \u001b[0;31m# common interactivity features\u001b[0m\u001b[0;34m\u001b[0m\u001b[0;34m\u001b[0m\u001b[0m\n",
      "\u001b[0;32m~/anaconda3/envs/rannala_project/lib/python3.6/site-packages/altair/__init__.py\u001b[0m in \u001b[0;36m<module>\u001b[0;34m\u001b[0m\n\u001b[1;32m      2\u001b[0m \u001b[0m__version__\u001b[0m \u001b[0;34m=\u001b[0m \u001b[0;34m'2.2.2'\u001b[0m\u001b[0;34m\u001b[0m\u001b[0;34m\u001b[0m\u001b[0m\n\u001b[1;32m      3\u001b[0m \u001b[0;34m\u001b[0m\u001b[0m\n\u001b[0;32m----> 4\u001b[0;31m \u001b[0;32mfrom\u001b[0m \u001b[0;34m.\u001b[0m\u001b[0mvegalite\u001b[0m \u001b[0;32mimport\u001b[0m \u001b[0;34m*\u001b[0m\u001b[0;34m\u001b[0m\u001b[0;34m\u001b[0m\u001b[0m\n\u001b[0m\u001b[1;32m      5\u001b[0m \u001b[0;34m\u001b[0m\u001b[0m\n\u001b[1;32m      6\u001b[0m \u001b[0;32mdef\u001b[0m \u001b[0mload_ipython_extension\u001b[0m\u001b[0;34m(\u001b[0m\u001b[0mipython\u001b[0m\u001b[0;34m)\u001b[0m\u001b[0;34m:\u001b[0m\u001b[0;34m\u001b[0m\u001b[0;34m\u001b[0m\u001b[0m\n",
      "\u001b[0;32m~/anaconda3/envs/rannala_project/lib/python3.6/site-packages/altair/vegalite/__init__.py\u001b[0m in \u001b[0;36m<module>\u001b[0;34m\u001b[0m\n\u001b[1;32m      1\u001b[0m \u001b[0;31m# flake8: noqa\u001b[0m\u001b[0;34m\u001b[0m\u001b[0;34m\u001b[0m\u001b[0;34m\u001b[0m\u001b[0m\n\u001b[0;32m----> 2\u001b[0;31m \u001b[0;32mfrom\u001b[0m \u001b[0;34m.\u001b[0m\u001b[0mv2\u001b[0m \u001b[0;32mimport\u001b[0m \u001b[0;34m*\u001b[0m\u001b[0;34m\u001b[0m\u001b[0;34m\u001b[0m\u001b[0m\n\u001b[0m",
      "\u001b[0;32m~/anaconda3/envs/rannala_project/lib/python3.6/site-packages/altair/vegalite/v2/__init__.py\u001b[0m in \u001b[0;36m<module>\u001b[0;34m\u001b[0m\n\u001b[1;32m      1\u001b[0m \u001b[0;31m# flake8: noqa\u001b[0m\u001b[0;34m\u001b[0m\u001b[0;34m\u001b[0m\u001b[0;34m\u001b[0m\u001b[0m\n\u001b[0;32m----> 2\u001b[0;31m \u001b[0;32mfrom\u001b[0m \u001b[0;34m.\u001b[0m\u001b[0mschema\u001b[0m \u001b[0;32mimport\u001b[0m \u001b[0;34m*\u001b[0m\u001b[0;34m\u001b[0m\u001b[0;34m\u001b[0m\u001b[0m\n\u001b[0m\u001b[1;32m      3\u001b[0m \u001b[0;32mfrom\u001b[0m \u001b[0;34m.\u001b[0m\u001b[0mapi\u001b[0m \u001b[0;32mimport\u001b[0m \u001b[0;34m*\u001b[0m\u001b[0;34m\u001b[0m\u001b[0;34m\u001b[0m\u001b[0m\n\u001b[1;32m      4\u001b[0m \u001b[0;34m\u001b[0m\u001b[0m\n\u001b[1;32m      5\u001b[0m \u001b[0;32mfrom\u001b[0m \u001b[0;34m.\u001b[0m \u001b[0;32mimport\u001b[0m \u001b[0mexamples\u001b[0m\u001b[0;34m\u001b[0m\u001b[0;34m\u001b[0m\u001b[0m\n",
      "\u001b[0;32m~/anaconda3/envs/rannala_project/lib/python3.6/site-packages/altair/vegalite/v2/schema/__init__.py\u001b[0m in \u001b[0;36m<module>\u001b[0;34m\u001b[0m\n\u001b[1;32m      1\u001b[0m \u001b[0;31m# flake8: noqa\u001b[0m\u001b[0;34m\u001b[0m\u001b[0;34m\u001b[0m\u001b[0;34m\u001b[0m\u001b[0m\n\u001b[0;32m----> 2\u001b[0;31m \u001b[0;32mfrom\u001b[0m \u001b[0;34m.\u001b[0m\u001b[0mcore\u001b[0m \u001b[0;32mimport\u001b[0m \u001b[0;34m*\u001b[0m\u001b[0;34m\u001b[0m\u001b[0;34m\u001b[0m\u001b[0m\n\u001b[0m\u001b[1;32m      3\u001b[0m \u001b[0;32mfrom\u001b[0m \u001b[0;34m.\u001b[0m\u001b[0mchannels\u001b[0m \u001b[0;32mimport\u001b[0m \u001b[0;34m*\u001b[0m\u001b[0;34m\u001b[0m\u001b[0;34m\u001b[0m\u001b[0m\n\u001b[1;32m      4\u001b[0m \u001b[0mSCHEMA_VERSION\u001b[0m \u001b[0;34m=\u001b[0m \u001b[0;34m'v2.6.0'\u001b[0m\u001b[0;34m\u001b[0m\u001b[0;34m\u001b[0m\u001b[0m\n\u001b[1;32m      5\u001b[0m \u001b[0mSCHEMA_URL\u001b[0m \u001b[0;34m=\u001b[0m \u001b[0;34m'https://vega.github.io/schema/vega-lite/v2.6.0.json'\u001b[0m\u001b[0;34m\u001b[0m\u001b[0;34m\u001b[0m\u001b[0m\n",
      "\u001b[0;32m~/anaconda3/envs/rannala_project/lib/python3.6/site-packages/altair/vegalite/v2/schema/core.py\u001b[0m in \u001b[0;36m<module>\u001b[0;34m\u001b[0m\n\u001b[1;32m      4\u001b[0m \u001b[0;31m# tools/generate_schema_wrapper.py. Do not modify directly.\u001b[0m\u001b[0;34m\u001b[0m\u001b[0;34m\u001b[0m\u001b[0;34m\u001b[0m\u001b[0m\n\u001b[1;32m      5\u001b[0m \u001b[0;34m\u001b[0m\u001b[0m\n\u001b[0;32m----> 6\u001b[0;31m \u001b[0;32mfrom\u001b[0m \u001b[0maltair\u001b[0m\u001b[0;34m.\u001b[0m\u001b[0mutils\u001b[0m\u001b[0;34m.\u001b[0m\u001b[0mschemapi\u001b[0m \u001b[0;32mimport\u001b[0m \u001b[0mSchemaBase\u001b[0m\u001b[0;34m,\u001b[0m \u001b[0mUndefined\u001b[0m\u001b[0;34m\u001b[0m\u001b[0;34m\u001b[0m\u001b[0m\n\u001b[0m\u001b[1;32m      7\u001b[0m \u001b[0;34m\u001b[0m\u001b[0m\n\u001b[1;32m      8\u001b[0m \u001b[0;32mimport\u001b[0m \u001b[0mpkgutil\u001b[0m\u001b[0;34m\u001b[0m\u001b[0;34m\u001b[0m\u001b[0m\n",
      "\u001b[0;32m~/anaconda3/envs/rannala_project/lib/python3.6/site-packages/altair/utils/__init__.py\u001b[0m in \u001b[0;36m<module>\u001b[0;34m\u001b[0m\n\u001b[0;32m----> 1\u001b[0;31m from .core import (\n\u001b[0m\u001b[1;32m      2\u001b[0m     \u001b[0minfer_vegalite_type\u001b[0m\u001b[0;34m,\u001b[0m\u001b[0;34m\u001b[0m\u001b[0;34m\u001b[0m\u001b[0m\n\u001b[1;32m      3\u001b[0m     \u001b[0msanitize_dataframe\u001b[0m\u001b[0;34m,\u001b[0m\u001b[0;34m\u001b[0m\u001b[0;34m\u001b[0m\u001b[0m\n\u001b[1;32m      4\u001b[0m     \u001b[0mparse_shorthand\u001b[0m\u001b[0;34m,\u001b[0m\u001b[0;34m\u001b[0m\u001b[0;34m\u001b[0m\u001b[0m\n\u001b[1;32m      5\u001b[0m     \u001b[0muse_signature\u001b[0m\u001b[0;34m,\u001b[0m\u001b[0;34m\u001b[0m\u001b[0;34m\u001b[0m\u001b[0m\n",
      "\u001b[0;32m~/anaconda3/envs/rannala_project/lib/python3.6/site-packages/altair/utils/core.py\u001b[0m in \u001b[0;36m<module>\u001b[0;34m\u001b[0m\n\u001b[1;32m     11\u001b[0m \u001b[0;34m\u001b[0m\u001b[0m\n\u001b[1;32m     12\u001b[0m \u001b[0;32mimport\u001b[0m \u001b[0msix\u001b[0m\u001b[0;34m\u001b[0m\u001b[0;34m\u001b[0m\u001b[0m\n\u001b[0;32m---> 13\u001b[0;31m \u001b[0;32mimport\u001b[0m \u001b[0mpandas\u001b[0m \u001b[0;32mas\u001b[0m \u001b[0mpd\u001b[0m\u001b[0;34m\u001b[0m\u001b[0;34m\u001b[0m\u001b[0m\n\u001b[0m\u001b[1;32m     14\u001b[0m \u001b[0;32mimport\u001b[0m \u001b[0mnumpy\u001b[0m \u001b[0;32mas\u001b[0m \u001b[0mnp\u001b[0m\u001b[0;34m\u001b[0m\u001b[0;34m\u001b[0m\u001b[0m\n\u001b[1;32m     15\u001b[0m \u001b[0;34m\u001b[0m\u001b[0m\n",
      "\u001b[0;32m~/anaconda3/envs/rannala_project/lib/python3.6/site-packages/pandas/__init__.py\u001b[0m in \u001b[0;36m<module>\u001b[0;34m\u001b[0m\n\u001b[1;32m     40\u001b[0m \u001b[0;32mimport\u001b[0m \u001b[0mpandas\u001b[0m\u001b[0;34m.\u001b[0m\u001b[0mcore\u001b[0m\u001b[0;34m.\u001b[0m\u001b[0mconfig_init\u001b[0m\u001b[0;34m\u001b[0m\u001b[0;34m\u001b[0m\u001b[0m\n\u001b[1;32m     41\u001b[0m \u001b[0;34m\u001b[0m\u001b[0m\n\u001b[0;32m---> 42\u001b[0;31m \u001b[0;32mfrom\u001b[0m \u001b[0mpandas\u001b[0m\u001b[0;34m.\u001b[0m\u001b[0mcore\u001b[0m\u001b[0;34m.\u001b[0m\u001b[0mapi\u001b[0m \u001b[0;32mimport\u001b[0m \u001b[0;34m*\u001b[0m\u001b[0;34m\u001b[0m\u001b[0;34m\u001b[0m\u001b[0m\n\u001b[0m\u001b[1;32m     43\u001b[0m \u001b[0;32mfrom\u001b[0m \u001b[0mpandas\u001b[0m\u001b[0;34m.\u001b[0m\u001b[0mcore\u001b[0m\u001b[0;34m.\u001b[0m\u001b[0msparse\u001b[0m\u001b[0;34m.\u001b[0m\u001b[0mapi\u001b[0m \u001b[0;32mimport\u001b[0m \u001b[0;34m*\u001b[0m\u001b[0;34m\u001b[0m\u001b[0;34m\u001b[0m\u001b[0m\n\u001b[1;32m     44\u001b[0m \u001b[0;32mfrom\u001b[0m \u001b[0mpandas\u001b[0m\u001b[0;34m.\u001b[0m\u001b[0mtseries\u001b[0m\u001b[0;34m.\u001b[0m\u001b[0mapi\u001b[0m \u001b[0;32mimport\u001b[0m \u001b[0;34m*\u001b[0m\u001b[0;34m\u001b[0m\u001b[0;34m\u001b[0m\u001b[0m\n",
      "\u001b[0;32m~/anaconda3/envs/rannala_project/lib/python3.6/site-packages/pandas/core/api.py\u001b[0m in \u001b[0;36m<module>\u001b[0;34m\u001b[0m\n\u001b[1;32m      8\u001b[0m \u001b[0;32mfrom\u001b[0m \u001b[0mpandas\u001b[0m\u001b[0;34m.\u001b[0m\u001b[0mcore\u001b[0m\u001b[0;34m.\u001b[0m\u001b[0mdtypes\u001b[0m\u001b[0;34m.\u001b[0m\u001b[0mmissing\u001b[0m \u001b[0;32mimport\u001b[0m \u001b[0misna\u001b[0m\u001b[0;34m,\u001b[0m \u001b[0misnull\u001b[0m\u001b[0;34m,\u001b[0m \u001b[0mnotna\u001b[0m\u001b[0;34m,\u001b[0m \u001b[0mnotnull\u001b[0m\u001b[0;34m\u001b[0m\u001b[0;34m\u001b[0m\u001b[0m\n\u001b[1;32m      9\u001b[0m \u001b[0;32mfrom\u001b[0m \u001b[0mpandas\u001b[0m\u001b[0;34m.\u001b[0m\u001b[0mcore\u001b[0m\u001b[0;34m.\u001b[0m\u001b[0marrays\u001b[0m \u001b[0;32mimport\u001b[0m \u001b[0mCategorical\u001b[0m\u001b[0;34m\u001b[0m\u001b[0;34m\u001b[0m\u001b[0m\n\u001b[0;32m---> 10\u001b[0;31m \u001b[0;32mfrom\u001b[0m \u001b[0mpandas\u001b[0m\u001b[0;34m.\u001b[0m\u001b[0mcore\u001b[0m\u001b[0;34m.\u001b[0m\u001b[0mgroupby\u001b[0m\u001b[0;34m.\u001b[0m\u001b[0mgroupby\u001b[0m \u001b[0;32mimport\u001b[0m \u001b[0mGrouper\u001b[0m\u001b[0;34m\u001b[0m\u001b[0;34m\u001b[0m\u001b[0m\n\u001b[0m\u001b[1;32m     11\u001b[0m \u001b[0;32mfrom\u001b[0m \u001b[0mpandas\u001b[0m\u001b[0;34m.\u001b[0m\u001b[0mio\u001b[0m\u001b[0;34m.\u001b[0m\u001b[0mformats\u001b[0m\u001b[0;34m.\u001b[0m\u001b[0mformat\u001b[0m \u001b[0;32mimport\u001b[0m \u001b[0mset_eng_float_format\u001b[0m\u001b[0;34m\u001b[0m\u001b[0;34m\u001b[0m\u001b[0m\n\u001b[1;32m     12\u001b[0m from pandas.core.index import (Index, CategoricalIndex, Int64Index,\n",
      "\u001b[0;32m~/anaconda3/envs/rannala_project/lib/python3.6/site-packages/pandas/core/groupby/__init__.py\u001b[0m in \u001b[0;36m<module>\u001b[0;34m\u001b[0m\n\u001b[1;32m      1\u001b[0m \u001b[0;31m# flake8: noqa\u001b[0m\u001b[0;34m\u001b[0m\u001b[0;34m\u001b[0m\u001b[0;34m\u001b[0m\u001b[0m\n\u001b[0;32m----> 2\u001b[0;31m from pandas.core.groupby.groupby import (\n\u001b[0m\u001b[1;32m      3\u001b[0m     \u001b[0mGrouper\u001b[0m\u001b[0;34m,\u001b[0m \u001b[0mGroupBy\u001b[0m\u001b[0;34m,\u001b[0m \u001b[0mSeriesGroupBy\u001b[0m\u001b[0;34m,\u001b[0m \u001b[0mDataFrameGroupBy\u001b[0m\u001b[0;34m\u001b[0m\u001b[0;34m\u001b[0m\u001b[0m\n\u001b[1;32m      4\u001b[0m )\n",
      "\u001b[0;32m~/anaconda3/envs/rannala_project/lib/python3.6/site-packages/pandas/core/groupby/groupby.py\u001b[0m in \u001b[0;36m<module>\u001b[0;34m\u001b[0m\n\u001b[1;32m     47\u001b[0m                                CategoricalIndex, _ensure_index)\n\u001b[1;32m     48\u001b[0m \u001b[0;32mfrom\u001b[0m \u001b[0mpandas\u001b[0m\u001b[0;34m.\u001b[0m\u001b[0mcore\u001b[0m\u001b[0;34m.\u001b[0m\u001b[0marrays\u001b[0m \u001b[0;32mimport\u001b[0m \u001b[0mExtensionArray\u001b[0m\u001b[0;34m,\u001b[0m \u001b[0mCategorical\u001b[0m\u001b[0;34m\u001b[0m\u001b[0;34m\u001b[0m\u001b[0m\n\u001b[0;32m---> 49\u001b[0;31m \u001b[0;32mfrom\u001b[0m \u001b[0mpandas\u001b[0m\u001b[0;34m.\u001b[0m\u001b[0mcore\u001b[0m\u001b[0;34m.\u001b[0m\u001b[0mframe\u001b[0m \u001b[0;32mimport\u001b[0m \u001b[0mDataFrame\u001b[0m\u001b[0;34m\u001b[0m\u001b[0;34m\u001b[0m\u001b[0m\n\u001b[0m\u001b[1;32m     50\u001b[0m \u001b[0;32mfrom\u001b[0m \u001b[0mpandas\u001b[0m\u001b[0;34m.\u001b[0m\u001b[0mcore\u001b[0m\u001b[0;34m.\u001b[0m\u001b[0mgeneric\u001b[0m \u001b[0;32mimport\u001b[0m \u001b[0mNDFrame\u001b[0m\u001b[0;34m,\u001b[0m \u001b[0m_shared_docs\u001b[0m\u001b[0;34m\u001b[0m\u001b[0;34m\u001b[0m\u001b[0m\n\u001b[1;32m     51\u001b[0m \u001b[0;32mfrom\u001b[0m \u001b[0mpandas\u001b[0m\u001b[0;34m.\u001b[0m\u001b[0mcore\u001b[0m\u001b[0;34m.\u001b[0m\u001b[0minternals\u001b[0m \u001b[0;32mimport\u001b[0m \u001b[0mBlockManager\u001b[0m\u001b[0;34m,\u001b[0m \u001b[0mmake_block\u001b[0m\u001b[0;34m\u001b[0m\u001b[0;34m\u001b[0m\u001b[0m\n",
      "\u001b[0;32m~/anaconda3/envs/rannala_project/lib/python3.6/site-packages/pandas/core/frame.py\u001b[0m in \u001b[0;36m<module>\u001b[0;34m\u001b[0m\n\u001b[1;32m     72\u001b[0m                                    \u001b[0mcreate_block_manager_from_arrays\u001b[0m\u001b[0;34m,\u001b[0m\u001b[0;34m\u001b[0m\u001b[0;34m\u001b[0m\u001b[0m\n\u001b[1;32m     73\u001b[0m                                    create_block_manager_from_blocks)\n\u001b[0;32m---> 74\u001b[0;31m \u001b[0;32mfrom\u001b[0m \u001b[0mpandas\u001b[0m\u001b[0;34m.\u001b[0m\u001b[0mcore\u001b[0m\u001b[0;34m.\u001b[0m\u001b[0mseries\u001b[0m \u001b[0;32mimport\u001b[0m \u001b[0mSeries\u001b[0m\u001b[0;34m\u001b[0m\u001b[0;34m\u001b[0m\u001b[0m\n\u001b[0m\u001b[1;32m     75\u001b[0m \u001b[0;32mfrom\u001b[0m \u001b[0mpandas\u001b[0m\u001b[0;34m.\u001b[0m\u001b[0mcore\u001b[0m\u001b[0;34m.\u001b[0m\u001b[0marrays\u001b[0m \u001b[0;32mimport\u001b[0m \u001b[0mCategorical\u001b[0m\u001b[0;34m,\u001b[0m \u001b[0mExtensionArray\u001b[0m\u001b[0;34m\u001b[0m\u001b[0;34m\u001b[0m\u001b[0m\n\u001b[1;32m     76\u001b[0m \u001b[0;32mimport\u001b[0m \u001b[0mpandas\u001b[0m\u001b[0;34m.\u001b[0m\u001b[0mcore\u001b[0m\u001b[0;34m.\u001b[0m\u001b[0malgorithms\u001b[0m \u001b[0;32mas\u001b[0m \u001b[0malgorithms\u001b[0m\u001b[0;34m\u001b[0m\u001b[0;34m\u001b[0m\u001b[0m\n",
      "\u001b[0;32m~/anaconda3/envs/rannala_project/lib/python3.6/site-packages/pandas/core/series.py\u001b[0m in \u001b[0;36m<module>\u001b[0;34m\u001b[0m\n\u001b[1;32m     65\u001b[0m \u001b[0;32mfrom\u001b[0m \u001b[0mpandas\u001b[0m\u001b[0;34m.\u001b[0m\u001b[0mcompat\u001b[0m\u001b[0;34m.\u001b[0m\u001b[0mnumpy\u001b[0m \u001b[0;32mimport\u001b[0m \u001b[0mfunction\u001b[0m \u001b[0;32mas\u001b[0m \u001b[0mnv\u001b[0m\u001b[0;34m\u001b[0m\u001b[0;34m\u001b[0m\u001b[0m\n\u001b[1;32m     66\u001b[0m \u001b[0;34m\u001b[0m\u001b[0m\n\u001b[0;32m---> 67\u001b[0;31m \u001b[0;32mimport\u001b[0m \u001b[0mpandas\u001b[0m\u001b[0;34m.\u001b[0m\u001b[0mcore\u001b[0m\u001b[0;34m.\u001b[0m\u001b[0mops\u001b[0m \u001b[0;32mas\u001b[0m \u001b[0mops\u001b[0m\u001b[0;34m\u001b[0m\u001b[0;34m\u001b[0m\u001b[0m\n\u001b[0m\u001b[1;32m     68\u001b[0m \u001b[0;32mimport\u001b[0m \u001b[0mpandas\u001b[0m\u001b[0;34m.\u001b[0m\u001b[0mcore\u001b[0m\u001b[0;34m.\u001b[0m\u001b[0malgorithms\u001b[0m \u001b[0;32mas\u001b[0m \u001b[0malgorithms\u001b[0m\u001b[0;34m\u001b[0m\u001b[0;34m\u001b[0m\u001b[0m\n\u001b[1;32m     69\u001b[0m \u001b[0;34m\u001b[0m\u001b[0m\n",
      "\u001b[0;31mAttributeError\u001b[0m: module 'pandas' has no attribute 'core'"
     ]
    }
   ],
   "source": [
    "import altair as alt # visualization library\n",
    "import numpy as np  # linear algebra\n",
    "import pandas as pd  # data processing\n",
    "from IPython.display import display # show interactive sliders\n",
    "from ipywidgets import interact # common interactivity features\n",
    "import ipywidgets as widgets # package for interactivity\n",
    "\n",
    "# import matplotlib.pyplot as plt\n",
    "# %matplotlib inline\n",
    "# import seaborn as sns\n",
    "# color = sns.color_palette()\n",
    "\n",
    "# alt.data_transformers.enable('json') # if number of records > 5000\n",
    "# alt.renderers.enable('notebook') # Renderer for notebook (comment out if using jupyterlab)\n",
    "\n",
    "import lib # project code package"
   ]
  },
  {
   "cell_type": "code",
   "execution_count": 3,
   "metadata": {
    "code_folding": [],
    "jupyter": {
     "source_hidden": true
    }
   },
   "outputs": [],
   "source": [
    "# create a database connection\n",
    "database = os.path.realpath('../rannala_project/db/rannala_project.db')\n",
    "conn = lib.create_connection(database)"
   ]
  },
  {
   "cell_type": "markdown",
   "metadata": {},
   "source": [
    "## Data Journey\n",
    "\n",
    "Now we are ready to start exploring the dataset."
   ]
  },
  {
   "cell_type": "markdown",
   "metadata": {},
   "source": [
    "### First 5 rows of cleaned dataset"
   ]
  },
  {
   "cell_type": "code",
   "execution_count": 4,
   "metadata": {
    "code_folding": [],
    "jupyter": {
     "source_hidden": true
    }
   },
   "outputs": [
    {
     "data": {
      "text/html": [
       "<div>\n",
       "<style scoped>\n",
       "    .dataframe tbody tr th:only-of-type {\n",
       "        vertical-align: middle;\n",
       "    }\n",
       "\n",
       "    .dataframe tbody tr th {\n",
       "        vertical-align: top;\n",
       "    }\n",
       "\n",
       "    .dataframe thead th {\n",
       "        text-align: right;\n",
       "    }\n",
       "</style>\n",
       "<table border=\"1\" class=\"dataframe\">\n",
       "  <thead>\n",
       "    <tr style=\"text-align: right;\">\n",
       "      <th></th>\n",
       "      <th>Time</th>\n",
       "      <th>Impressions</th>\n",
       "      <th>Clicks</th>\n",
       "      <th>CTR</th>\n",
       "      <th>Cohort Size</th>\n",
       "      <th>Click to Install</th>\n",
       "      <th>fCVR</th>\n",
       "      <th>D7 Payers</th>\n",
       "      <th>D7 Payer Conversion</th>\n",
       "    </tr>\n",
       "  </thead>\n",
       "  <tbody>\n",
       "    <tr>\n",
       "      <th>0</th>\n",
       "      <td>2018-09-01</td>\n",
       "      <td>1000593</td>\n",
       "      <td>33371</td>\n",
       "      <td>0.0334</td>\n",
       "      <td>3925</td>\n",
       "      <td>11.8</td>\n",
       "      <td>0.0039</td>\n",
       "      <td>88</td>\n",
       "      <td>0.0224</td>\n",
       "    </tr>\n",
       "    <tr>\n",
       "      <th>1</th>\n",
       "      <td>2018-09-02</td>\n",
       "      <td>1235620</td>\n",
       "      <td>38675</td>\n",
       "      <td>0.0313</td>\n",
       "      <td>4425</td>\n",
       "      <td>11.4</td>\n",
       "      <td>0.0036</td>\n",
       "      <td>102</td>\n",
       "      <td>0.0231</td>\n",
       "    </tr>\n",
       "    <tr>\n",
       "      <th>2</th>\n",
       "      <td>2018-09-03</td>\n",
       "      <td>1318256</td>\n",
       "      <td>40821</td>\n",
       "      <td>0.0310</td>\n",
       "      <td>4195</td>\n",
       "      <td>10.3</td>\n",
       "      <td>0.0032</td>\n",
       "      <td>82</td>\n",
       "      <td>0.0195</td>\n",
       "    </tr>\n",
       "    <tr>\n",
       "      <th>3</th>\n",
       "      <td>2018-09-04</td>\n",
       "      <td>1144845</td>\n",
       "      <td>31356</td>\n",
       "      <td>0.0274</td>\n",
       "      <td>3475</td>\n",
       "      <td>11.1</td>\n",
       "      <td>0.0030</td>\n",
       "      <td>88</td>\n",
       "      <td>0.0253</td>\n",
       "    </tr>\n",
       "    <tr>\n",
       "      <th>4</th>\n",
       "      <td>2018-09-05</td>\n",
       "      <td>1159113</td>\n",
       "      <td>34715</td>\n",
       "      <td>0.0299</td>\n",
       "      <td>3205</td>\n",
       "      <td>9.2</td>\n",
       "      <td>0.0028</td>\n",
       "      <td>75</td>\n",
       "      <td>0.0234</td>\n",
       "    </tr>\n",
       "  </tbody>\n",
       "</table>\n",
       "</div>"
      ],
      "text/plain": [
       "         Time  Impressions  Clicks     CTR  Cohort Size  Click to Install  \\\n",
       "0  2018-09-01      1000593   33371  0.0334         3925              11.8   \n",
       "1  2018-09-02      1235620   38675  0.0313         4425              11.4   \n",
       "2  2018-09-03      1318256   40821  0.0310         4195              10.3   \n",
       "3  2018-09-04      1144845   31356  0.0274         3475              11.1   \n",
       "4  2018-09-05      1159113   34715  0.0299         3205               9.2   \n",
       "\n",
       "     fCVR  D7 Payers  D7 Payer Conversion  \n",
       "0  0.0039         88               0.0224  \n",
       "1  0.0036        102               0.0231  \n",
       "2  0.0032         82               0.0195  \n",
       "3  0.0030         88               0.0253  \n",
       "4  0.0028         75               0.0234  "
      ]
     },
     "execution_count": 4,
     "metadata": {},
     "output_type": "execute_result"
    }
   ],
   "source": [
    "# read in dataset\n",
    "df = pd.read_sql_query(\n",
    "    '''SELECT substr(Time,7)||'-'||substr(Time,4,2)||'-'||substr(Time,1,2) as Time,\n",
    "    cast(replace(Impressions,\",\",\"\") as INT) as Impressions,cast(replace(Clicks,\",\",\"\") as INT) as Clicks,\n",
    "    cast(replace(CTR,\"%\",\"\") as FLOAT) / 100 as CTR,\n",
    "    cast(replace([Cohort size],\",\",\"\") as INT) as [Cohort Size],\n",
    "    cast(replace([Click to Install],\"%\",\"\") as FLOAT) as [Click to Install],\n",
    "    cast(replace(fCVR,\"%\",\"\") as FLOAT) / 100 as fCVR,\n",
    "    cast([D7 Payers] as INT) as [D7 Payers],\n",
    "    cast(replace([D7 Payer Conversion],\"%\",\"\") as FLOAT) / 100 as [D7 Payer Conversion]\n",
    "    FROM question1;''', conn)\n",
    "df.head()"
   ]
  },
  {
   "cell_type": "markdown",
   "metadata": {},
   "source": [
    "### Data types in dataframe"
   ]
  },
  {
   "cell_type": "code",
   "execution_count": 5,
   "metadata": {
    "jupyter": {
     "source_hidden": true
    }
   },
   "outputs": [
    {
     "name": "stdout",
     "output_type": "stream",
     "text": [
      "<class 'pandas.core.frame.DataFrame'>\n",
      "RangeIndex: 30 entries, 0 to 29\n",
      "Data columns (total 9 columns):\n",
      "Time                   30 non-null object\n",
      "Impressions            30 non-null int64\n",
      "Clicks                 30 non-null int64\n",
      "CTR                    30 non-null float64\n",
      "Cohort Size            30 non-null int64\n",
      "Click to Install       30 non-null float64\n",
      "fCVR                   30 non-null float64\n",
      "D7 Payers              30 non-null int64\n",
      "D7 Payer Conversion    30 non-null float64\n",
      "dtypes: float64(4), int64(4), object(1)\n",
      "memory usage: 2.2+ KB\n"
     ]
    }
   ],
   "source": [
    "df.info()"
   ]
  },
  {
   "cell_type": "markdown",
   "metadata": {},
   "source": [
    "## Field descriptions\n",
    "\n",
    "- **Time**: Date of action (impression, click or install)\n",
    "- **Impressions**: Number of ad impressions on the given date\n",
    "- **Clicks**: Number of clicks on the game ad on the given date\n",
    "- **CTR**: Click through rate\n",
    "- **Cohort size**: Number of game installs on the given date, which came through ads\n",
    "- **Click to Install**: Click to Install rate on the given date\n",
    "- **fCVR**: Funnel conversion rate for the given date, i.e how much of ad impressions turned into a new game install\n",
    "- **D7 Payers**: Number of players who did an in-app purchase in the game within 7 days after the given install date\n",
    "- **D7 Payer Conversion**: Share of players who did an in-app purchase within 7 days after installing the game on the given date"
   ]
  },
  {
   "cell_type": "markdown",
   "metadata": {},
   "source": [
    "### Some basic statistical figures"
   ]
  },
  {
   "cell_type": "code",
   "execution_count": 6,
   "metadata": {},
   "outputs": [
    {
     "data": {
      "text/html": [
       "<div>\n",
       "<style scoped>\n",
       "    .dataframe tbody tr th:only-of-type {\n",
       "        vertical-align: middle;\n",
       "    }\n",
       "\n",
       "    .dataframe tbody tr th {\n",
       "        vertical-align: top;\n",
       "    }\n",
       "\n",
       "    .dataframe thead th {\n",
       "        text-align: right;\n",
       "    }\n",
       "</style>\n",
       "<table border=\"1\" class=\"dataframe\">\n",
       "  <thead>\n",
       "    <tr style=\"text-align: right;\">\n",
       "      <th></th>\n",
       "      <th>Impressions</th>\n",
       "      <th>Clicks</th>\n",
       "      <th>CTR</th>\n",
       "      <th>Cohort Size</th>\n",
       "      <th>Click to Install</th>\n",
       "      <th>fCVR</th>\n",
       "      <th>D7 Payers</th>\n",
       "      <th>D7 Payer Conversion</th>\n",
       "    </tr>\n",
       "  </thead>\n",
       "  <tbody>\n",
       "    <tr>\n",
       "      <th>count</th>\n",
       "      <td>3.000000e+01</td>\n",
       "      <td>30.000000</td>\n",
       "      <td>30.000000</td>\n",
       "      <td>30.000000</td>\n",
       "      <td>30.000000</td>\n",
       "      <td>30.000000</td>\n",
       "      <td>30.000000</td>\n",
       "      <td>30.000000</td>\n",
       "    </tr>\n",
       "    <tr>\n",
       "      <th>mean</th>\n",
       "      <td>1.273388e+06</td>\n",
       "      <td>37992.066667</td>\n",
       "      <td>0.029740</td>\n",
       "      <td>3204.666667</td>\n",
       "      <td>8.586667</td>\n",
       "      <td>0.002540</td>\n",
       "      <td>86.833333</td>\n",
       "      <td>0.027330</td>\n",
       "    </tr>\n",
       "    <tr>\n",
       "      <th>std</th>\n",
       "      <td>1.571979e+05</td>\n",
       "      <td>7347.102117</td>\n",
       "      <td>0.003603</td>\n",
       "      <td>492.930528</td>\n",
       "      <td>1.312732</td>\n",
       "      <td>0.000425</td>\n",
       "      <td>13.580116</td>\n",
       "      <td>0.003795</td>\n",
       "    </tr>\n",
       "    <tr>\n",
       "      <th>min</th>\n",
       "      <td>1.000593e+06</td>\n",
       "      <td>28172.000000</td>\n",
       "      <td>0.024100</td>\n",
       "      <td>2390.000000</td>\n",
       "      <td>6.600000</td>\n",
       "      <td>0.002100</td>\n",
       "      <td>54.000000</td>\n",
       "      <td>0.019500</td>\n",
       "    </tr>\n",
       "    <tr>\n",
       "      <th>25%</th>\n",
       "      <td>1.162843e+06</td>\n",
       "      <td>31505.250000</td>\n",
       "      <td>0.027500</td>\n",
       "      <td>2861.000000</td>\n",
       "      <td>7.825000</td>\n",
       "      <td>0.002300</td>\n",
       "      <td>79.250000</td>\n",
       "      <td>0.024025</td>\n",
       "    </tr>\n",
       "    <tr>\n",
       "      <th>50%</th>\n",
       "      <td>1.272188e+06</td>\n",
       "      <td>38176.500000</td>\n",
       "      <td>0.029550</td>\n",
       "      <td>3126.000000</td>\n",
       "      <td>8.450000</td>\n",
       "      <td>0.002400</td>\n",
       "      <td>85.500000</td>\n",
       "      <td>0.027500</td>\n",
       "    </tr>\n",
       "    <tr>\n",
       "      <th>75%</th>\n",
       "      <td>1.369320e+06</td>\n",
       "      <td>43606.000000</td>\n",
       "      <td>0.031675</td>\n",
       "      <td>3479.500000</td>\n",
       "      <td>9.125000</td>\n",
       "      <td>0.002700</td>\n",
       "      <td>93.500000</td>\n",
       "      <td>0.030225</td>\n",
       "    </tr>\n",
       "    <tr>\n",
       "      <th>max</th>\n",
       "      <td>1.642131e+06</td>\n",
       "      <td>57029.000000</td>\n",
       "      <td>0.039200</td>\n",
       "      <td>4425.000000</td>\n",
       "      <td>11.800000</td>\n",
       "      <td>0.003900</td>\n",
       "      <td>118.000000</td>\n",
       "      <td>0.034200</td>\n",
       "    </tr>\n",
       "  </tbody>\n",
       "</table>\n",
       "</div>"
      ],
      "text/plain": [
       "        Impressions        Clicks        CTR  Cohort Size  Click to Install  \\\n",
       "count  3.000000e+01     30.000000  30.000000    30.000000         30.000000   \n",
       "mean   1.273388e+06  37992.066667   0.029740  3204.666667          8.586667   \n",
       "std    1.571979e+05   7347.102117   0.003603   492.930528          1.312732   \n",
       "min    1.000593e+06  28172.000000   0.024100  2390.000000          6.600000   \n",
       "25%    1.162843e+06  31505.250000   0.027500  2861.000000          7.825000   \n",
       "50%    1.272188e+06  38176.500000   0.029550  3126.000000          8.450000   \n",
       "75%    1.369320e+06  43606.000000   0.031675  3479.500000          9.125000   \n",
       "max    1.642131e+06  57029.000000   0.039200  4425.000000         11.800000   \n",
       "\n",
       "            fCVR   D7 Payers  D7 Payer Conversion  \n",
       "count  30.000000   30.000000            30.000000  \n",
       "mean    0.002540   86.833333             0.027330  \n",
       "std     0.000425   13.580116             0.003795  \n",
       "min     0.002100   54.000000             0.019500  \n",
       "25%     0.002300   79.250000             0.024025  \n",
       "50%     0.002400   85.500000             0.027500  \n",
       "75%     0.002700   93.500000             0.030225  \n",
       "max     0.003900  118.000000             0.034200  "
      ]
     },
     "execution_count": 6,
     "metadata": {},
     "output_type": "execute_result"
    }
   ],
   "source": [
    "df.describe()"
   ]
  },
  {
   "cell_type": "markdown",
   "metadata": {},
   "source": [
    "### First impression from data\n",
    "\n",
    "The pathway from ad views ('impressions') via click'n'installs to players who actually do in-app purchases is very narrow. A million impressions might yield 85 paying customers for example."
   ]
  },
  {
   "cell_type": "code",
   "execution_count": 7,
   "metadata": {
    "jupyter": {
     "source_hidden": true
    }
   },
   "outputs": [
    {
     "data": {
      "application/vnd.vegalite.v2+json": {
       "$schema": "https://vega.github.io/schema/vega-lite/v2.6.0.json",
       "config": {
        "view": {
         "height": 300,
         "width": 400
        }
       },
       "data": {
        "name": "data-b3c0feaba3a5c5d72e3465bd46c809b2"
       },
       "datasets": {
        "data-b3c0feaba3a5c5d72e3465bd46c809b2": [
         {
          "CTR": 0.0334,
          "Click to Install": 11.8,
          "Clicks": 33371,
          "Cohort Size": 3925,
          "D7 Payer Conversion": 0.022400000000000003,
          "D7 Payers": 88,
          "Impressions": 1000593,
          "Time": "2018-09-01",
          "fCVR": 0.0039000000000000003
         },
         {
          "CTR": 0.0313,
          "Click to Install": 11.4,
          "Clicks": 38675,
          "Cohort Size": 4425,
          "D7 Payer Conversion": 0.0231,
          "D7 Payers": 102,
          "Impressions": 1235620,
          "Time": "2018-09-02",
          "fCVR": 0.0036
         },
         {
          "CTR": 0.031,
          "Click to Install": 10.3,
          "Clicks": 40821,
          "Cohort Size": 4195,
          "D7 Payer Conversion": 0.0195,
          "D7 Payers": 82,
          "Impressions": 1318256,
          "Time": "2018-09-03",
          "fCVR": 0.0032
         },
         {
          "CTR": 0.0274,
          "Click to Install": 11.1,
          "Clicks": 31356,
          "Cohort Size": 3475,
          "D7 Payer Conversion": 0.0253,
          "D7 Payers": 88,
          "Impressions": 1144845,
          "Time": "2018-09-04",
          "fCVR": 0.003
         },
         {
          "CTR": 0.029900000000000003,
          "Click to Install": 9.2,
          "Clicks": 34715,
          "Cohort Size": 3205,
          "D7 Payer Conversion": 0.023399999999999997,
          "D7 Payers": 75,
          "Impressions": 1159113,
          "Time": "2018-09-05",
          "fCVR": 0.0028000000000000004
         },
         {
          "CTR": 0.031200000000000002,
          "Click to Install": 6.8,
          "Clicks": 43913,
          "Cohort Size": 2974,
          "D7 Payer Conversion": 0.0276,
          "D7 Payers": 82,
          "Impressions": 1409692,
          "Time": "2018-09-06",
          "fCVR": 0.0021
         },
         {
          "CTR": 0.0323,
          "Click to Install": 7.1,
          "Clicks": 42685,
          "Cohort Size": 3029,
          "D7 Payer Conversion": 0.026699999999999998,
          "D7 Payers": 81,
          "Impressions": 1320359,
          "Time": "2018-09-07",
          "fCVR": 0.0023
         },
         {
          "CTR": 0.0391,
          "Click to Install": 6.9,
          "Clicks": 53271,
          "Cohort Size": 3663,
          "D7 Payer Conversion": 0.0259,
          "D7 Payers": 95,
          "Impressions": 1361364,
          "Time": "2018-09-08",
          "fCVR": 0.0027
         },
         {
          "CTR": 0.0392,
          "Click to Install": 6.6,
          "Clicks": 57029,
          "Cohort Size": 3769,
          "D7 Payer Conversion": 0.0226,
          "D7 Payers": 85,
          "Impressions": 1456486,
          "Time": "2018-09-09",
          "fCVR": 0.0026
         },
         {
          "CTR": 0.0318,
          "Click to Install": 7.9,
          "Clicks": 39869,
          "Cohort Size": 3137,
          "D7 Payer Conversion": 0.0274,
          "D7 Payers": 86,
          "Impressions": 1253203,
          "Time": "2018-09-10",
          "fCVR": 0.0025
         },
         {
          "CTR": 0.032,
          "Click to Install": 6.9,
          "Clicks": 46343,
          "Cohort Size": 3192,
          "D7 Payer Conversion": 0.0279,
          "D7 Payers": 89,
          "Impressions": 1448567,
          "Time": "2018-09-11",
          "fCVR": 0.0022
         },
         {
          "CTR": 0.0296,
          "Click to Install": 7.4,
          "Clicks": 41577,
          "Cohort Size": 3087,
          "D7 Payer Conversion": 0.0285,
          "D7 Payers": 88,
          "Impressions": 1405218,
          "Time": "2018-09-12",
          "fCVR": 0.0022
         },
         {
          "CTR": 0.0282,
          "Click to Install": 7.8,
          "Clicks": 44253,
          "Cohort Size": 3447,
          "D7 Payer Conversion": 0.0342,
          "D7 Payers": 118,
          "Impressions": 1566663,
          "Time": "2018-09-13",
          "fCVR": 0.0022
         },
         {
          "CTR": 0.0275,
          "Click to Install": 8.3,
          "Clicks": 37678,
          "Cohort Size": 3119,
          "D7 Payer Conversion": 0.0305,
          "D7 Payers": 95,
          "Impressions": 1371972,
          "Time": "2018-09-14",
          "fCVR": 0.0023
         },
         {
          "CTR": 0.0325,
          "Click to Install": 8.2,
          "Clicks": 44254,
          "Cohort Size": 3608,
          "D7 Payer Conversion": 0.0294,
          "D7 Payers": 106,
          "Impressions": 1359780,
          "Time": "2018-09-15",
          "fCVR": 0.0027
         },
         {
          "CTR": 0.030899999999999997,
          "Click to Install": 8.3,
          "Clicks": 43928,
          "Cohort Size": 3658,
          "D7 Payer Conversion": 0.030899999999999997,
          "D7 Payers": 113,
          "Impressions": 1419329,
          "Time": "2018-09-16",
          "fCVR": 0.0026
         },
         {
          "CTR": 0.0275,
          "Click to Install": 8.4,
          "Clicks": 32327,
          "Cohort Size": 2721,
          "D7 Payer Conversion": 0.0323,
          "D7 Payers": 88,
          "Impressions": 1174032,
          "Time": "2018-09-17",
          "fCVR": 0.0023
         },
         {
          "CTR": 0.0285,
          "Click to Install": 8.2,
          "Clicks": 29180,
          "Cohort Size": 2390,
          "D7 Payer Conversion": 0.0226,
          "D7 Payers": 54,
          "Impressions": 1023391,
          "Time": "2018-09-18",
          "fCVR": 0.0023
         },
         {
          "CTR": 0.0259,
          "Click to Install": 8.7,
          "Clicks": 29435,
          "Cohort Size": 2565,
          "D7 Payer Conversion": 0.0308,
          "D7 Payers": 79,
          "Impressions": 1134678,
          "Time": "2018-09-19",
          "fCVR": 0.0023
         },
         {
          "CTR": 0.027999999999999997,
          "Click to Install": 8.9,
          "Clicks": 28172,
          "Cohort Size": 2516,
          "D7 Payer Conversion": 0.0338,
          "D7 Payers": 85,
          "Impressions": 1006182,
          "Time": "2018-09-20",
          "fCVR": 0.0025
         },
         {
          "CTR": 0.026099999999999998,
          "Click to Install": 9.2,
          "Clicks": 28814,
          "Cohort Size": 2644,
          "D7 Payer Conversion": 0.028399999999999998,
          "D7 Payers": 75,
          "Impressions": 1105777,
          "Time": "2018-09-21",
          "fCVR": 0.0024
         },
         {
          "CTR": 0.0325,
          "Click to Install": 8.7,
          "Clicks": 35713,
          "Cohort Size": 3111,
          "D7 Payer Conversion": 0.022799999999999997,
          "D7 Payers": 71,
          "Impressions": 1099185,
          "Time": "2018-09-22",
          "fCVR": 0.0028000000000000004
         },
         {
          "CTR": 0.030699999999999998,
          "Click to Install": 8.9,
          "Clicks": 39284,
          "Cohort Size": 3481,
          "D7 Payer Conversion": 0.023799999999999998,
          "D7 Payers": 83,
          "Impressions": 1277943,
          "Time": "2018-09-23",
          "fCVR": 0.0027
         },
         {
          "CTR": 0.0241,
          "Click to Install": 9.9,
          "Clicks": 30631,
          "Cohort Size": 3027,
          "D7 Payer Conversion": 0.033,
          "D7 Payers": 100,
          "Impressions": 1273232,
          "Time": "2018-09-24",
          "fCVR": 0.0024
         },
         {
          "CTR": 0.024399999999999998,
          "Click to Install": 9.2,
          "Clicks": 30962,
          "Cohort Size": 2838,
          "D7 Payer Conversion": 0.0268,
          "D7 Payers": 76,
          "Impressions": 1271144,
          "Time": "2018-09-25",
          "fCVR": 0.0022
         },
         {
          "CTR": 0.0279,
          "Click to Install": 8.5,
          "Clicks": 34439,
          "Cohort Size": 2930,
          "D7 Payer Conversion": 0.0273,
          "D7 Payers": 80,
          "Impressions": 1235172,
          "Time": "2018-09-26",
          "fCVR": 0.0024
         },
         {
          "CTR": 0.027000000000000003,
          "Click to Install": 8.6,
          "Clicks": 31953,
          "Cohort Size": 2751,
          "D7 Payer Conversion": 0.024700000000000003,
          "D7 Payers": 68,
          "Impressions": 1181530,
          "Time": "2018-09-27",
          "fCVR": 0.0023
         },
         {
          "CTR": 0.0253,
          "Click to Install": 8.8,
          "Clicks": 30722,
          "Cohort Size": 2712,
          "D7 Payer Conversion": 0.0288,
          "D7 Payers": 78,
          "Impressions": 1214674,
          "Time": "2018-09-28",
          "fCVR": 0.0022
         },
         {
          "CTR": 0.029500000000000002,
          "Click to Install": 8,
          "Clicks": 39313,
          "Cohort Size": 3133,
          "D7 Payer Conversion": 0.0281,
          "D7 Payers": 88,
          "Impressions": 1331501,
          "Time": "2018-09-29",
          "fCVR": 0.0024
         },
         {
          "CTR": 0.0275,
          "Click to Install": 7.6,
          "Clicks": 45079,
          "Cohort Size": 3413,
          "D7 Payer Conversion": 0.031400000000000004,
          "D7 Payers": 107,
          "Impressions": 1642131,
          "Time": "2018-09-30",
          "fCVR": 0.0021
         }
        ]
       },
       "encoding": {
        "color": {
         "aggregate": "sum",
         "field": "D7 Payer Conversion",
         "legend": null,
         "type": "quantitative"
        },
        "size": {
         "field": "D7 Payers",
         "type": "quantitative"
        },
        "x": {
         "field": "D7 Payers",
         "scale": {
          "zero": false
         },
         "type": "quantitative"
        },
        "y": {
         "field": "Impressions",
         "type": "quantitative"
        }
       },
       "mark": "circle",
       "title": "Impressions vs D7 Payers (color density = D7 Payer Conversion rate from installs)"
      },
      "image/png": "[encoded data removed]",
      "text/plain": [
       "<VegaLite 2 object>\n",
       "\n",
       "If you see this message, it means the renderer has not been properly enabled\n",
       "for the frontend that you are using. For more information, see\n",
       "https://altair-viz.github.io/user_guide/troubleshooting.html\n"
      ]
     },
     "execution_count": 7,
     "metadata": {},
     "output_type": "execute_result"
    }
   ],
   "source": [
    "alt.Chart(df).mark_circle().encode(\n",
    "    alt.Y('Impressions:Q'),\n",
    "    alt.X('D7 Payers:Q',scale=alt.Scale(zero=False)),\n",
    "    color=alt.Color('sum(D7 Payer Conversion):Q', legend=None),\n",
    "    size= 'D7 Payers:Q'\n",
    ").properties(\n",
    "    title='Impressions vs D7 Payers (color density = D7 Payer Conversion rate from installs)',\n",
    ")"
   ]
  },
  {
   "cell_type": "markdown",
   "metadata": {},
   "source": [
    "### Funnel Part I: Impressions vs Clicks\n",
    "\n",
    "To travel the rocky path from impressions to paying customers, lets first look at the first step along the way. 8th and 9th of September jump out from data. Both had good conversion rates - even though the number of impressions were not particularly great. "
   ]
  },
  {
   "cell_type": "code",
   "execution_count": 8,
   "metadata": {},
   "outputs": [
    {
     "data": {
      "application/vnd.vegalite.v2+json": {
       "$schema": "https://vega.github.io/schema/vega-lite/v2.6.0.json",
       "config": {
        "view": {
         "height": 300,
         "width": 400
        }
       },
       "datasets": {
        "data-b3c0feaba3a5c5d72e3465bd46c809b2": [
         {
          "CTR": 0.0334,
          "Click to Install": 11.8,
          "Clicks": 33371,
          "Cohort Size": 3925,
          "D7 Payer Conversion": 0.022400000000000003,
          "D7 Payers": 88,
          "Impressions": 1000593,
          "Time": "2018-09-01",
          "fCVR": 0.0039000000000000003
         },
         {
          "CTR": 0.0313,
          "Click to Install": 11.4,
          "Clicks": 38675,
          "Cohort Size": 4425,
          "D7 Payer Conversion": 0.0231,
          "D7 Payers": 102,
          "Impressions": 1235620,
          "Time": "2018-09-02",
          "fCVR": 0.0036
         },
         {
          "CTR": 0.031,
          "Click to Install": 10.3,
          "Clicks": 40821,
          "Cohort Size": 4195,
          "D7 Payer Conversion": 0.0195,
          "D7 Payers": 82,
          "Impressions": 1318256,
          "Time": "2018-09-03",
          "fCVR": 0.0032
         },
         {
          "CTR": 0.0274,
          "Click to Install": 11.1,
          "Clicks": 31356,
          "Cohort Size": 3475,
          "D7 Payer Conversion": 0.0253,
          "D7 Payers": 88,
          "Impressions": 1144845,
          "Time": "2018-09-04",
          "fCVR": 0.003
         },
         {
          "CTR": 0.029900000000000003,
          "Click to Install": 9.2,
          "Clicks": 34715,
          "Cohort Size": 3205,
          "D7 Payer Conversion": 0.023399999999999997,
          "D7 Payers": 75,
          "Impressions": 1159113,
          "Time": "2018-09-05",
          "fCVR": 0.0028000000000000004
         },
         {
          "CTR": 0.031200000000000002,
          "Click to Install": 6.8,
          "Clicks": 43913,
          "Cohort Size": 2974,
          "D7 Payer Conversion": 0.0276,
          "D7 Payers": 82,
          "Impressions": 1409692,
          "Time": "2018-09-06",
          "fCVR": 0.0021
         },
         {
          "CTR": 0.0323,
          "Click to Install": 7.1,
          "Clicks": 42685,
          "Cohort Size": 3029,
          "D7 Payer Conversion": 0.026699999999999998,
          "D7 Payers": 81,
          "Impressions": 1320359,
          "Time": "2018-09-07",
          "fCVR": 0.0023
         },
         {
          "CTR": 0.0391,
          "Click to Install": 6.9,
          "Clicks": 53271,
          "Cohort Size": 3663,
          "D7 Payer Conversion": 0.0259,
          "D7 Payers": 95,
          "Impressions": 1361364,
          "Time": "2018-09-08",
          "fCVR": 0.0027
         },
         {
          "CTR": 0.0392,
          "Click to Install": 6.6,
          "Clicks": 57029,
          "Cohort Size": 3769,
          "D7 Payer Conversion": 0.0226,
          "D7 Payers": 85,
          "Impressions": 1456486,
          "Time": "2018-09-09",
          "fCVR": 0.0026
         },
         {
          "CTR": 0.0318,
          "Click to Install": 7.9,
          "Clicks": 39869,
          "Cohort Size": 3137,
          "D7 Payer Conversion": 0.0274,
          "D7 Payers": 86,
          "Impressions": 1253203,
          "Time": "2018-09-10",
          "fCVR": 0.0025
         },
         {
          "CTR": 0.032,
          "Click to Install": 6.9,
          "Clicks": 46343,
          "Cohort Size": 3192,
          "D7 Payer Conversion": 0.0279,
          "D7 Payers": 89,
          "Impressions": 1448567,
          "Time": "2018-09-11",
          "fCVR": 0.0022
         },
         {
          "CTR": 0.0296,
          "Click to Install": 7.4,
          "Clicks": 41577,
          "Cohort Size": 3087,
          "D7 Payer Conversion": 0.0285,
          "D7 Payers": 88,
          "Impressions": 1405218,
          "Time": "2018-09-12",
          "fCVR": 0.0022
         },
         {
          "CTR": 0.0282,
          "Click to Install": 7.8,
          "Clicks": 44253,
          "Cohort Size": 3447,
          "D7 Payer Conversion": 0.0342,
          "D7 Payers": 118,
          "Impressions": 1566663,
          "Time": "2018-09-13",
          "fCVR": 0.0022
         },
         {
          "CTR": 0.0275,
          "Click to Install": 8.3,
          "Clicks": 37678,
          "Cohort Size": 3119,
          "D7 Payer Conversion": 0.0305,
          "D7 Payers": 95,
          "Impressions": 1371972,
          "Time": "2018-09-14",
          "fCVR": 0.0023
         },
         {
          "CTR": 0.0325,
          "Click to Install": 8.2,
          "Clicks": 44254,
          "Cohort Size": 3608,
          "D7 Payer Conversion": 0.0294,
          "D7 Payers": 106,
          "Impressions": 1359780,
          "Time": "2018-09-15",
          "fCVR": 0.0027
         },
         {
          "CTR": 0.030899999999999997,
          "Click to Install": 8.3,
          "Clicks": 43928,
          "Cohort Size": 3658,
          "D7 Payer Conversion": 0.030899999999999997,
          "D7 Payers": 113,
          "Impressions": 1419329,
          "Time": "2018-09-16",
          "fCVR": 0.0026
         },
         {
          "CTR": 0.0275,
          "Click to Install": 8.4,
          "Clicks": 32327,
          "Cohort Size": 2721,
          "D7 Payer Conversion": 0.0323,
          "D7 Payers": 88,
          "Impressions": 1174032,
          "Time": "2018-09-17",
          "fCVR": 0.0023
         },
         {
          "CTR": 0.0285,
          "Click to Install": 8.2,
          "Clicks": 29180,
          "Cohort Size": 2390,
          "D7 Payer Conversion": 0.0226,
          "D7 Payers": 54,
          "Impressions": 1023391,
          "Time": "2018-09-18",
          "fCVR": 0.0023
         },
         {
          "CTR": 0.0259,
          "Click to Install": 8.7,
          "Clicks": 29435,
          "Cohort Size": 2565,
          "D7 Payer Conversion": 0.0308,
          "D7 Payers": 79,
          "Impressions": 1134678,
          "Time": "2018-09-19",
          "fCVR": 0.0023
         },
         {
          "CTR": 0.027999999999999997,
          "Click to Install": 8.9,
          "Clicks": 28172,
          "Cohort Size": 2516,
          "D7 Payer Conversion": 0.0338,
          "D7 Payers": 85,
          "Impressions": 1006182,
          "Time": "2018-09-20",
          "fCVR": 0.0025
         },
         {
          "CTR": 0.026099999999999998,
          "Click to Install": 9.2,
          "Clicks": 28814,
          "Cohort Size": 2644,
          "D7 Payer Conversion": 0.028399999999999998,
          "D7 Payers": 75,
          "Impressions": 1105777,
          "Time": "2018-09-21",
          "fCVR": 0.0024
         },
         {
          "CTR": 0.0325,
          "Click to Install": 8.7,
          "Clicks": 35713,
          "Cohort Size": 3111,
          "D7 Payer Conversion": 0.022799999999999997,
          "D7 Payers": 71,
          "Impressions": 1099185,
          "Time": "2018-09-22",
          "fCVR": 0.0028000000000000004
         },
         {
          "CTR": 0.030699999999999998,
          "Click to Install": 8.9,
          "Clicks": 39284,
          "Cohort Size": 3481,
          "D7 Payer Conversion": 0.023799999999999998,
          "D7 Payers": 83,
          "Impressions": 1277943,
          "Time": "2018-09-23",
          "fCVR": 0.0027
         },
         {
          "CTR": 0.0241,
          "Click to Install": 9.9,
          "Clicks": 30631,
          "Cohort Size": 3027,
          "D7 Payer Conversion": 0.033,
          "D7 Payers": 100,
          "Impressions": 1273232,
          "Time": "2018-09-24",
          "fCVR": 0.0024
         },
         {
          "CTR": 0.024399999999999998,
          "Click to Install": 9.2,
          "Clicks": 30962,
          "Cohort Size": 2838,
          "D7 Payer Conversion": 0.0268,
          "D7 Payers": 76,
          "Impressions": 1271144,
          "Time": "2018-09-25",
          "fCVR": 0.0022
         },
         {
          "CTR": 0.0279,
          "Click to Install": 8.5,
          "Clicks": 34439,
          "Cohort Size": 2930,
          "D7 Payer Conversion": 0.0273,
          "D7 Payers": 80,
          "Impressions": 1235172,
          "Time": "2018-09-26",
          "fCVR": 0.0024
         },
         {
          "CTR": 0.027000000000000003,
          "Click to Install": 8.6,
          "Clicks": 31953,
          "Cohort Size": 2751,
          "D7 Payer Conversion": 0.024700000000000003,
          "D7 Payers": 68,
          "Impressions": 1181530,
          "Time": "2018-09-27",
          "fCVR": 0.0023
         },
         {
          "CTR": 0.0253,
          "Click to Install": 8.8,
          "Clicks": 30722,
          "Cohort Size": 2712,
          "D7 Payer Conversion": 0.0288,
          "D7 Payers": 78,
          "Impressions": 1214674,
          "Time": "2018-09-28",
          "fCVR": 0.0022
         },
         {
          "CTR": 0.029500000000000002,
          "Click to Install": 8,
          "Clicks": 39313,
          "Cohort Size": 3133,
          "D7 Payer Conversion": 0.0281,
          "D7 Payers": 88,
          "Impressions": 1331501,
          "Time": "2018-09-29",
          "fCVR": 0.0024
         },
         {
          "CTR": 0.0275,
          "Click to Install": 7.6,
          "Clicks": 45079,
          "Cohort Size": 3413,
          "D7 Payer Conversion": 0.031400000000000004,
          "D7 Payers": 107,
          "Impressions": 1642131,
          "Time": "2018-09-30",
          "fCVR": 0.0021
         }
        ]
       },
       "layer": [
        {
         "data": {
          "name": "data-b3c0feaba3a5c5d72e3465bd46c809b2"
         },
         "encoding": {
          "color": {
           "field": "CTR",
           "legend": null,
           "type": "quantitative"
          },
          "x": {
           "field": "Time",
           "type": "nominal"
          },
          "y": {
           "field": "Impressions",
           "type": "quantitative"
          }
         },
         "height": 300,
         "mark": "bar",
         "selection": {
          "selector001": {
           "encodings": [
            "x"
           ],
           "mark": {
            "fill": "#333",
            "fillOpacity": 0.125,
            "stroke": "white"
           },
           "on": "[mousedown, window:mouseup] > window:mousemove!",
           "resolve": "global",
           "translate": "[mousedown, window:mouseup] > window:mousemove!",
           "type": "interval",
           "zoom": "wheel!"
          }
         },
         "title": "Impressions vs Clicks (color density = CTR conversion rate)",
         "transform": [
          {
           "filter": {
            "selection": "selector001"
           }
          }
         ],
         "width": 450
        },
        {
         "data": {
          "name": "data-b3c0feaba3a5c5d72e3465bd46c809b2"
         },
         "encoding": {
          "x": {
           "field": "Time",
           "type": "nominal"
          },
          "y": {
           "field": "Clicks",
           "type": "quantitative"
          }
         },
         "mark": {
          "color": "red",
          "type": "line"
         }
        }
       ],
       "resolve": {
        "scale": {
         "color": "independent",
         "x": "shared",
         "y": "independent"
        }
       }
      },
      "image/png": "[encoded data removed]",
      "text/plain": [
       "<VegaLite 2 object>\n",
       "\n",
       "If you see this message, it means the renderer has not been properly enabled\n",
       "for the frontend that you are using. For more information, see\n",
       "https://altair-viz.github.io/user_guide/troubleshooting.html\n"
      ]
     },
     "execution_count": 8,
     "metadata": {},
     "output_type": "execute_result"
    }
   ],
   "source": [
    "pts = alt.selection(type='interval', encodings=['x'])\n",
    "\n",
    "base = alt.Chart(df).encode(\n",
    "    alt.X('Time:N')\n",
    ")\n",
    "\n",
    "bar = base.mark_bar().encode(\n",
    "    y='Impressions:Q',\n",
    "    color=alt.Color('CTR:Q', legend=None)\n",
    ").transform_filter(\n",
    "    pts\n",
    ").properties(\n",
    "    selection=pts,\n",
    "    width=450,\n",
    "    height=300,\n",
    "    title='Impressions vs Clicks (color density = CTR conversion rate)'\n",
    ")\n",
    "\n",
    "line = base.mark_line(color='red').encode(\n",
    "    y='Clicks:Q',\n",
    ")\n",
    "\n",
    "layer1 = alt.layer(\n",
    "    bar,\n",
    "    line\n",
    ").resolve_scale(\n",
    "    y='independent', color='independent'\n",
    ")\n",
    "\n",
    "layer1"
   ]
  },
  {
   "cell_type": "markdown",
   "metadata": {},
   "source": [
    "### Funnel Part II: Clicks vs Installs\n",
    "\n",
    "Here we notice that the start of month was great for landing actual installs from ad clicks. First weekend of September looks like a very good time to be out hunting for new players."
   ]
  },
  {
   "cell_type": "code",
   "execution_count": 9,
   "metadata": {},
   "outputs": [
    {
     "data": {
      "application/vnd.vegalite.v2+json": {
       "$schema": "https://vega.github.io/schema/vega-lite/v2.6.0.json",
       "config": {
        "view": {
         "height": 300,
         "width": 400
        }
       },
       "datasets": {
        "data-b3c0feaba3a5c5d72e3465bd46c809b2": [
         {
          "CTR": 0.0334,
          "Click to Install": 11.8,
          "Clicks": 33371,
          "Cohort Size": 3925,
          "D7 Payer Conversion": 0.022400000000000003,
          "D7 Payers": 88,
          "Impressions": 1000593,
          "Time": "2018-09-01",
          "fCVR": 0.0039000000000000003
         },
         {
          "CTR": 0.0313,
          "Click to Install": 11.4,
          "Clicks": 38675,
          "Cohort Size": 4425,
          "D7 Payer Conversion": 0.0231,
          "D7 Payers": 102,
          "Impressions": 1235620,
          "Time": "2018-09-02",
          "fCVR": 0.0036
         },
         {
          "CTR": 0.031,
          "Click to Install": 10.3,
          "Clicks": 40821,
          "Cohort Size": 4195,
          "D7 Payer Conversion": 0.0195,
          "D7 Payers": 82,
          "Impressions": 1318256,
          "Time": "2018-09-03",
          "fCVR": 0.0032
         },
         {
          "CTR": 0.0274,
          "Click to Install": 11.1,
          "Clicks": 31356,
          "Cohort Size": 3475,
          "D7 Payer Conversion": 0.0253,
          "D7 Payers": 88,
          "Impressions": 1144845,
          "Time": "2018-09-04",
          "fCVR": 0.003
         },
         {
          "CTR": 0.029900000000000003,
          "Click to Install": 9.2,
          "Clicks": 34715,
          "Cohort Size": 3205,
          "D7 Payer Conversion": 0.023399999999999997,
          "D7 Payers": 75,
          "Impressions": 1159113,
          "Time": "2018-09-05",
          "fCVR": 0.0028000000000000004
         },
         {
          "CTR": 0.031200000000000002,
          "Click to Install": 6.8,
          "Clicks": 43913,
          "Cohort Size": 2974,
          "D7 Payer Conversion": 0.0276,
          "D7 Payers": 82,
          "Impressions": 1409692,
          "Time": "2018-09-06",
          "fCVR": 0.0021
         },
         {
          "CTR": 0.0323,
          "Click to Install": 7.1,
          "Clicks": 42685,
          "Cohort Size": 3029,
          "D7 Payer Conversion": 0.026699999999999998,
          "D7 Payers": 81,
          "Impressions": 1320359,
          "Time": "2018-09-07",
          "fCVR": 0.0023
         },
         {
          "CTR": 0.0391,
          "Click to Install": 6.9,
          "Clicks": 53271,
          "Cohort Size": 3663,
          "D7 Payer Conversion": 0.0259,
          "D7 Payers": 95,
          "Impressions": 1361364,
          "Time": "2018-09-08",
          "fCVR": 0.0027
         },
         {
          "CTR": 0.0392,
          "Click to Install": 6.6,
          "Clicks": 57029,
          "Cohort Size": 3769,
          "D7 Payer Conversion": 0.0226,
          "D7 Payers": 85,
          "Impressions": 1456486,
          "Time": "2018-09-09",
          "fCVR": 0.0026
         },
         {
          "CTR": 0.0318,
          "Click to Install": 7.9,
          "Clicks": 39869,
          "Cohort Size": 3137,
          "D7 Payer Conversion": 0.0274,
          "D7 Payers": 86,
          "Impressions": 1253203,
          "Time": "2018-09-10",
          "fCVR": 0.0025
         },
         {
          "CTR": 0.032,
          "Click to Install": 6.9,
          "Clicks": 46343,
          "Cohort Size": 3192,
          "D7 Payer Conversion": 0.0279,
          "D7 Payers": 89,
          "Impressions": 1448567,
          "Time": "2018-09-11",
          "fCVR": 0.0022
         },
         {
          "CTR": 0.0296,
          "Click to Install": 7.4,
          "Clicks": 41577,
          "Cohort Size": 3087,
          "D7 Payer Conversion": 0.0285,
          "D7 Payers": 88,
          "Impressions": 1405218,
          "Time": "2018-09-12",
          "fCVR": 0.0022
         },
         {
          "CTR": 0.0282,
          "Click to Install": 7.8,
          "Clicks": 44253,
          "Cohort Size": 3447,
          "D7 Payer Conversion": 0.0342,
          "D7 Payers": 118,
          "Impressions": 1566663,
          "Time": "2018-09-13",
          "fCVR": 0.0022
         },
         {
          "CTR": 0.0275,
          "Click to Install": 8.3,
          "Clicks": 37678,
          "Cohort Size": 3119,
          "D7 Payer Conversion": 0.0305,
          "D7 Payers": 95,
          "Impressions": 1371972,
          "Time": "2018-09-14",
          "fCVR": 0.0023
         },
         {
          "CTR": 0.0325,
          "Click to Install": 8.2,
          "Clicks": 44254,
          "Cohort Size": 3608,
          "D7 Payer Conversion": 0.0294,
          "D7 Payers": 106,
          "Impressions": 1359780,
          "Time": "2018-09-15",
          "fCVR": 0.0027
         },
         {
          "CTR": 0.030899999999999997,
          "Click to Install": 8.3,
          "Clicks": 43928,
          "Cohort Size": 3658,
          "D7 Payer Conversion": 0.030899999999999997,
          "D7 Payers": 113,
          "Impressions": 1419329,
          "Time": "2018-09-16",
          "fCVR": 0.0026
         },
         {
          "CTR": 0.0275,
          "Click to Install": 8.4,
          "Clicks": 32327,
          "Cohort Size": 2721,
          "D7 Payer Conversion": 0.0323,
          "D7 Payers": 88,
          "Impressions": 1174032,
          "Time": "2018-09-17",
          "fCVR": 0.0023
         },
         {
          "CTR": 0.0285,
          "Click to Install": 8.2,
          "Clicks": 29180,
          "Cohort Size": 2390,
          "D7 Payer Conversion": 0.0226,
          "D7 Payers": 54,
          "Impressions": 1023391,
          "Time": "2018-09-18",
          "fCVR": 0.0023
         },
         {
          "CTR": 0.0259,
          "Click to Install": 8.7,
          "Clicks": 29435,
          "Cohort Size": 2565,
          "D7 Payer Conversion": 0.0308,
          "D7 Payers": 79,
          "Impressions": 1134678,
          "Time": "2018-09-19",
          "fCVR": 0.0023
         },
         {
          "CTR": 0.027999999999999997,
          "Click to Install": 8.9,
          "Clicks": 28172,
          "Cohort Size": 2516,
          "D7 Payer Conversion": 0.0338,
          "D7 Payers": 85,
          "Impressions": 1006182,
          "Time": "2018-09-20",
          "fCVR": 0.0025
         },
         {
          "CTR": 0.026099999999999998,
          "Click to Install": 9.2,
          "Clicks": 28814,
          "Cohort Size": 2644,
          "D7 Payer Conversion": 0.028399999999999998,
          "D7 Payers": 75,
          "Impressions": 1105777,
          "Time": "2018-09-21",
          "fCVR": 0.0024
         },
         {
          "CTR": 0.0325,
          "Click to Install": 8.7,
          "Clicks": 35713,
          "Cohort Size": 3111,
          "D7 Payer Conversion": 0.022799999999999997,
          "D7 Payers": 71,
          "Impressions": 1099185,
          "Time": "2018-09-22",
          "fCVR": 0.0028000000000000004
         },
         {
          "CTR": 0.030699999999999998,
          "Click to Install": 8.9,
          "Clicks": 39284,
          "Cohort Size": 3481,
          "D7 Payer Conversion": 0.023799999999999998,
          "D7 Payers": 83,
          "Impressions": 1277943,
          "Time": "2018-09-23",
          "fCVR": 0.0027
         },
         {
          "CTR": 0.0241,
          "Click to Install": 9.9,
          "Clicks": 30631,
          "Cohort Size": 3027,
          "D7 Payer Conversion": 0.033,
          "D7 Payers": 100,
          "Impressions": 1273232,
          "Time": "2018-09-24",
          "fCVR": 0.0024
         },
         {
          "CTR": 0.024399999999999998,
          "Click to Install": 9.2,
          "Clicks": 30962,
          "Cohort Size": 2838,
          "D7 Payer Conversion": 0.0268,
          "D7 Payers": 76,
          "Impressions": 1271144,
          "Time": "2018-09-25",
          "fCVR": 0.0022
         },
         {
          "CTR": 0.0279,
          "Click to Install": 8.5,
          "Clicks": 34439,
          "Cohort Size": 2930,
          "D7 Payer Conversion": 0.0273,
          "D7 Payers": 80,
          "Impressions": 1235172,
          "Time": "2018-09-26",
          "fCVR": 0.0024
         },
         {
          "CTR": 0.027000000000000003,
          "Click to Install": 8.6,
          "Clicks": 31953,
          "Cohort Size": 2751,
          "D7 Payer Conversion": 0.024700000000000003,
          "D7 Payers": 68,
          "Impressions": 1181530,
          "Time": "2018-09-27",
          "fCVR": 0.0023
         },
         {
          "CTR": 0.0253,
          "Click to Install": 8.8,
          "Clicks": 30722,
          "Cohort Size": 2712,
          "D7 Payer Conversion": 0.0288,
          "D7 Payers": 78,
          "Impressions": 1214674,
          "Time": "2018-09-28",
          "fCVR": 0.0022
         },
         {
          "CTR": 0.029500000000000002,
          "Click to Install": 8,
          "Clicks": 39313,
          "Cohort Size": 3133,
          "D7 Payer Conversion": 0.0281,
          "D7 Payers": 88,
          "Impressions": 1331501,
          "Time": "2018-09-29",
          "fCVR": 0.0024
         },
         {
          "CTR": 0.0275,
          "Click to Install": 7.6,
          "Clicks": 45079,
          "Cohort Size": 3413,
          "D7 Payer Conversion": 0.031400000000000004,
          "D7 Payers": 107,
          "Impressions": 1642131,
          "Time": "2018-09-30",
          "fCVR": 0.0021
         }
        ]
       },
       "layer": [
        {
         "data": {
          "name": "data-b3c0feaba3a5c5d72e3465bd46c809b2"
         },
         "encoding": {
          "color": {
           "field": "Click to Install",
           "legend": null,
           "type": "quantitative"
          },
          "x": {
           "field": "Time",
           "type": "nominal"
          },
          "y": {
           "field": "Clicks",
           "type": "quantitative"
          }
         },
         "height": 300,
         "mark": "bar",
         "selection": {
          "selector002": {
           "encodings": [
            "x"
           ],
           "mark": {
            "fill": "#333",
            "fillOpacity": 0.125,
            "stroke": "white"
           },
           "on": "[mousedown, window:mouseup] > window:mousemove!",
           "resolve": "global",
           "translate": "[mousedown, window:mouseup] > window:mousemove!",
           "type": "interval",
           "zoom": "wheel!"
          }
         },
         "title": "Clicks vs Installs aka \"Cohort Size\" (color density = \"Click to Install\" conversion rate)",
         "transform": [
          {
           "filter": {
            "selection": "selector002"
           }
          }
         ],
         "width": 450
        },
        {
         "data": {
          "name": "data-b3c0feaba3a5c5d72e3465bd46c809b2"
         },
         "encoding": {
          "x": {
           "field": "Time",
           "type": "nominal"
          },
          "y": {
           "field": "Cohort Size",
           "type": "quantitative"
          }
         },
         "mark": {
          "color": "red",
          "type": "line"
         }
        }
       ],
       "resolve": {
        "scale": {
         "color": "independent",
         "x": "shared",
         "y": "independent"
        }
       }
      },
      "image/png": "[encoded data removed]",
      "text/plain": [
       "<VegaLite 2 object>\n",
       "\n",
       "If you see this message, it means the renderer has not been properly enabled\n",
       "for the frontend that you are using. For more information, see\n",
       "https://altair-viz.github.io/user_guide/troubleshooting.html\n"
      ]
     },
     "execution_count": 9,
     "metadata": {},
     "output_type": "execute_result"
    }
   ],
   "source": [
    "pts = alt.selection(type='interval', encodings=['x'])\n",
    "\n",
    "base = alt.Chart(df).encode(\n",
    "    alt.X('Time:N')\n",
    ")\n",
    "\n",
    "bar = base.mark_bar().encode(\n",
    "    y='Clicks:Q',\n",
    "    color=alt.Color('Click to Install:Q', legend=None)\n",
    ").transform_filter(\n",
    "    pts\n",
    ").properties(\n",
    "    selection=pts,\n",
    "    width=450,\n",
    "    height=300,\n",
    "    title='Clicks vs Installs aka \"Cohort Size\" (color density = \"Click to Install\" conversion rate)'\n",
    ")\n",
    "\n",
    "line = base.mark_line(color='red').encode(\n",
    "    y='Cohort Size:Q',\n",
    ")\n",
    "\n",
    "layer1 = alt.layer(\n",
    "    bar,\n",
    "    line\n",
    ").resolve_scale(\n",
    "    y='independent', color='independent'\n",
    ")\n",
    "\n",
    "layer1"
   ]
  },
  {
   "cell_type": "markdown",
   "metadata": {},
   "source": [
    "### Funnel Parts I & II together form a key KPI\n",
    "\n",
    "- **fCVR** aka share of ad impressions turned into new game installs."
   ]
  },
  {
   "cell_type": "code",
   "execution_count": 10,
   "metadata": {},
   "outputs": [
    {
     "data": {
      "application/vnd.vegalite.v2+json": {
       "$schema": "https://vega.github.io/schema/vega-lite/v2.6.0.json",
       "config": {
        "view": {
         "height": 300,
         "width": 400
        }
       },
       "datasets": {
        "data-b3c0feaba3a5c5d72e3465bd46c809b2": [
         {
          "CTR": 0.0334,
          "Click to Install": 11.8,
          "Clicks": 33371,
          "Cohort Size": 3925,
          "D7 Payer Conversion": 0.022400000000000003,
          "D7 Payers": 88,
          "Impressions": 1000593,
          "Time": "2018-09-01",
          "fCVR": 0.0039000000000000003
         },
         {
          "CTR": 0.0313,
          "Click to Install": 11.4,
          "Clicks": 38675,
          "Cohort Size": 4425,
          "D7 Payer Conversion": 0.0231,
          "D7 Payers": 102,
          "Impressions": 1235620,
          "Time": "2018-09-02",
          "fCVR": 0.0036
         },
         {
          "CTR": 0.031,
          "Click to Install": 10.3,
          "Clicks": 40821,
          "Cohort Size": 4195,
          "D7 Payer Conversion": 0.0195,
          "D7 Payers": 82,
          "Impressions": 1318256,
          "Time": "2018-09-03",
          "fCVR": 0.0032
         },
         {
          "CTR": 0.0274,
          "Click to Install": 11.1,
          "Clicks": 31356,
          "Cohort Size": 3475,
          "D7 Payer Conversion": 0.0253,
          "D7 Payers": 88,
          "Impressions": 1144845,
          "Time": "2018-09-04",
          "fCVR": 0.003
         },
         {
          "CTR": 0.029900000000000003,
          "Click to Install": 9.2,
          "Clicks": 34715,
          "Cohort Size": 3205,
          "D7 Payer Conversion": 0.023399999999999997,
          "D7 Payers": 75,
          "Impressions": 1159113,
          "Time": "2018-09-05",
          "fCVR": 0.0028000000000000004
         },
         {
          "CTR": 0.031200000000000002,
          "Click to Install": 6.8,
          "Clicks": 43913,
          "Cohort Size": 2974,
          "D7 Payer Conversion": 0.0276,
          "D7 Payers": 82,
          "Impressions": 1409692,
          "Time": "2018-09-06",
          "fCVR": 0.0021
         },
         {
          "CTR": 0.0323,
          "Click to Install": 7.1,
          "Clicks": 42685,
          "Cohort Size": 3029,
          "D7 Payer Conversion": 0.026699999999999998,
          "D7 Payers": 81,
          "Impressions": 1320359,
          "Time": "2018-09-07",
          "fCVR": 0.0023
         },
         {
          "CTR": 0.0391,
          "Click to Install": 6.9,
          "Clicks": 53271,
          "Cohort Size": 3663,
          "D7 Payer Conversion": 0.0259,
          "D7 Payers": 95,
          "Impressions": 1361364,
          "Time": "2018-09-08",
          "fCVR": 0.0027
         },
         {
          "CTR": 0.0392,
          "Click to Install": 6.6,
          "Clicks": 57029,
          "Cohort Size": 3769,
          "D7 Payer Conversion": 0.0226,
          "D7 Payers": 85,
          "Impressions": 1456486,
          "Time": "2018-09-09",
          "fCVR": 0.0026
         },
         {
          "CTR": 0.0318,
          "Click to Install": 7.9,
          "Clicks": 39869,
          "Cohort Size": 3137,
          "D7 Payer Conversion": 0.0274,
          "D7 Payers": 86,
          "Impressions": 1253203,
          "Time": "2018-09-10",
          "fCVR": 0.0025
         },
         {
          "CTR": 0.032,
          "Click to Install": 6.9,
          "Clicks": 46343,
          "Cohort Size": 3192,
          "D7 Payer Conversion": 0.0279,
          "D7 Payers": 89,
          "Impressions": 1448567,
          "Time": "2018-09-11",
          "fCVR": 0.0022
         },
         {
          "CTR": 0.0296,
          "Click to Install": 7.4,
          "Clicks": 41577,
          "Cohort Size": 3087,
          "D7 Payer Conversion": 0.0285,
          "D7 Payers": 88,
          "Impressions": 1405218,
          "Time": "2018-09-12",
          "fCVR": 0.0022
         },
         {
          "CTR": 0.0282,
          "Click to Install": 7.8,
          "Clicks": 44253,
          "Cohort Size": 3447,
          "D7 Payer Conversion": 0.0342,
          "D7 Payers": 118,
          "Impressions": 1566663,
          "Time": "2018-09-13",
          "fCVR": 0.0022
         },
         {
          "CTR": 0.0275,
          "Click to Install": 8.3,
          "Clicks": 37678,
          "Cohort Size": 3119,
          "D7 Payer Conversion": 0.0305,
          "D7 Payers": 95,
          "Impressions": 1371972,
          "Time": "2018-09-14",
          "fCVR": 0.0023
         },
         {
          "CTR": 0.0325,
          "Click to Install": 8.2,
          "Clicks": 44254,
          "Cohort Size": 3608,
          "D7 Payer Conversion": 0.0294,
          "D7 Payers": 106,
          "Impressions": 1359780,
          "Time": "2018-09-15",
          "fCVR": 0.0027
         },
         {
          "CTR": 0.030899999999999997,
          "Click to Install": 8.3,
          "Clicks": 43928,
          "Cohort Size": 3658,
          "D7 Payer Conversion": 0.030899999999999997,
          "D7 Payers": 113,
          "Impressions": 1419329,
          "Time": "2018-09-16",
          "fCVR": 0.0026
         },
         {
          "CTR": 0.0275,
          "Click to Install": 8.4,
          "Clicks": 32327,
          "Cohort Size": 2721,
          "D7 Payer Conversion": 0.0323,
          "D7 Payers": 88,
          "Impressions": 1174032,
          "Time": "2018-09-17",
          "fCVR": 0.0023
         },
         {
          "CTR": 0.0285,
          "Click to Install": 8.2,
          "Clicks": 29180,
          "Cohort Size": 2390,
          "D7 Payer Conversion": 0.0226,
          "D7 Payers": 54,
          "Impressions": 1023391,
          "Time": "2018-09-18",
          "fCVR": 0.0023
         },
         {
          "CTR": 0.0259,
          "Click to Install": 8.7,
          "Clicks": 29435,
          "Cohort Size": 2565,
          "D7 Payer Conversion": 0.0308,
          "D7 Payers": 79,
          "Impressions": 1134678,
          "Time": "2018-09-19",
          "fCVR": 0.0023
         },
         {
          "CTR": 0.027999999999999997,
          "Click to Install": 8.9,
          "Clicks": 28172,
          "Cohort Size": 2516,
          "D7 Payer Conversion": 0.0338,
          "D7 Payers": 85,
          "Impressions": 1006182,
          "Time": "2018-09-20",
          "fCVR": 0.0025
         },
         {
          "CTR": 0.026099999999999998,
          "Click to Install": 9.2,
          "Clicks": 28814,
          "Cohort Size": 2644,
          "D7 Payer Conversion": 0.028399999999999998,
          "D7 Payers": 75,
          "Impressions": 1105777,
          "Time": "2018-09-21",
          "fCVR": 0.0024
         },
         {
          "CTR": 0.0325,
          "Click to Install": 8.7,
          "Clicks": 35713,
          "Cohort Size": 3111,
          "D7 Payer Conversion": 0.022799999999999997,
          "D7 Payers": 71,
          "Impressions": 1099185,
          "Time": "2018-09-22",
          "fCVR": 0.0028000000000000004
         },
         {
          "CTR": 0.030699999999999998,
          "Click to Install": 8.9,
          "Clicks": 39284,
          "Cohort Size": 3481,
          "D7 Payer Conversion": 0.023799999999999998,
          "D7 Payers": 83,
          "Impressions": 1277943,
          "Time": "2018-09-23",
          "fCVR": 0.0027
         },
         {
          "CTR": 0.0241,
          "Click to Install": 9.9,
          "Clicks": 30631,
          "Cohort Size": 3027,
          "D7 Payer Conversion": 0.033,
          "D7 Payers": 100,
          "Impressions": 1273232,
          "Time": "2018-09-24",
          "fCVR": 0.0024
         },
         {
          "CTR": 0.024399999999999998,
          "Click to Install": 9.2,
          "Clicks": 30962,
          "Cohort Size": 2838,
          "D7 Payer Conversion": 0.0268,
          "D7 Payers": 76,
          "Impressions": 1271144,
          "Time": "2018-09-25",
          "fCVR": 0.0022
         },
         {
          "CTR": 0.0279,
          "Click to Install": 8.5,
          "Clicks": 34439,
          "Cohort Size": 2930,
          "D7 Payer Conversion": 0.0273,
          "D7 Payers": 80,
          "Impressions": 1235172,
          "Time": "2018-09-26",
          "fCVR": 0.0024
         },
         {
          "CTR": 0.027000000000000003,
          "Click to Install": 8.6,
          "Clicks": 31953,
          "Cohort Size": 2751,
          "D7 Payer Conversion": 0.024700000000000003,
          "D7 Payers": 68,
          "Impressions": 1181530,
          "Time": "2018-09-27",
          "fCVR": 0.0023
         },
         {
          "CTR": 0.0253,
          "Click to Install": 8.8,
          "Clicks": 30722,
          "Cohort Size": 2712,
          "D7 Payer Conversion": 0.0288,
          "D7 Payers": 78,
          "Impressions": 1214674,
          "Time": "2018-09-28",
          "fCVR": 0.0022
         },
         {
          "CTR": 0.029500000000000002,
          "Click to Install": 8,
          "Clicks": 39313,
          "Cohort Size": 3133,
          "D7 Payer Conversion": 0.0281,
          "D7 Payers": 88,
          "Impressions": 1331501,
          "Time": "2018-09-29",
          "fCVR": 0.0024
         },
         {
          "CTR": 0.0275,
          "Click to Install": 7.6,
          "Clicks": 45079,
          "Cohort Size": 3413,
          "D7 Payer Conversion": 0.031400000000000004,
          "D7 Payers": 107,
          "Impressions": 1642131,
          "Time": "2018-09-30",
          "fCVR": 0.0021
         }
        ]
       },
       "layer": [
        {
         "data": {
          "name": "data-b3c0feaba3a5c5d72e3465bd46c809b2"
         },
         "encoding": {
          "color": {
           "field": "Cohort Size",
           "legend": null,
           "type": "quantitative"
          },
          "x": {
           "field": "Time",
           "type": "nominal"
          },
          "y": {
           "field": "Impressions",
           "type": "quantitative"
          }
         },
         "height": 300,
         "mark": "bar",
         "selection": {
          "selector003": {
           "encodings": [
            "x"
           ],
           "mark": {
            "fill": "#333",
            "fillOpacity": 0.125,
            "stroke": "white"
           },
           "on": "[mousedown, window:mouseup] > window:mousemove!",
           "resolve": "global",
           "translate": "[mousedown, window:mouseup] > window:mousemove!",
           "type": "interval",
           "zoom": "wheel!"
          }
         },
         "title": "fCVR (color density = Installs aka \"Cohort Size\")",
         "transform": [
          {
           "filter": {
            "selection": "selector003"
           }
          }
         ],
         "width": 450
        },
        {
         "data": {
          "name": "data-b3c0feaba3a5c5d72e3465bd46c809b2"
         },
         "encoding": {
          "x": {
           "field": "Time",
           "type": "nominal"
          },
          "y": {
           "axis": {
            "format": "%"
           },
           "field": "fCVR",
           "type": "quantitative"
          }
         },
         "mark": {
          "color": "red",
          "type": "line"
         }
        }
       ],
       "resolve": {
        "scale": {
         "color": "independent",
         "x": "shared",
         "y": "independent"
        }
       }
      },
      "image/png": "[encoded data removed]",
      "text/plain": [
       "<VegaLite 2 object>\n",
       "\n",
       "If you see this message, it means the renderer has not been properly enabled\n",
       "for the frontend that you are using. For more information, see\n",
       "https://altair-viz.github.io/user_guide/troubleshooting.html\n"
      ]
     },
     "execution_count": 10,
     "metadata": {},
     "output_type": "execute_result"
    }
   ],
   "source": [
    "pts = alt.selection(type='interval', encodings=['x'])\n",
    "\n",
    "base = alt.Chart(df).encode(\n",
    "    alt.X('Time:N')\n",
    ")\n",
    "\n",
    "bar = base.mark_bar().encode(\n",
    "    alt.Y('Impressions:Q'),\n",
    "    color=alt.Color('Cohort Size:Q', legend=None)\n",
    ").transform_filter(\n",
    "    pts\n",
    ").properties(\n",
    "    selection=pts,\n",
    "    width=450,\n",
    "    height=300,\n",
    "    title='fCVR (color density = Installs aka \"Cohort Size\")'\n",
    ")\n",
    "\n",
    "line = base.mark_line(color='red').encode(\n",
    "    alt.Y('fCVR:Q',axis=alt.Axis(format='%')),\n",
    ")\n",
    "\n",
    "layer1 = alt.layer(\n",
    "    bar,\n",
    "    line\n",
    ").resolve_scale(\n",
    "    y='independent', color='independent'\n",
    ")\n",
    "\n",
    "\n",
    "\n",
    "\n",
    "\n",
    "layer1"
   ]
  },
  {
   "cell_type": "markdown",
   "metadata": {},
   "source": [
    "### Funnel Part III: Installs vs D7 Payers\n",
    "\n",
    "The share of ad-sourced player cohort that makes in-app purchases within 7 days of game install."
   ]
  },
  {
   "cell_type": "code",
   "execution_count": 11,
   "metadata": {},
   "outputs": [
    {
     "data": {
      "application/vnd.vegalite.v2+json": {
       "$schema": "https://vega.github.io/schema/vega-lite/v2.6.0.json",
       "config": {
        "view": {
         "height": 300,
         "width": 400
        }
       },
       "datasets": {
        "data-b3c0feaba3a5c5d72e3465bd46c809b2": [
         {
          "CTR": 0.0334,
          "Click to Install": 11.8,
          "Clicks": 33371,
          "Cohort Size": 3925,
          "D7 Payer Conversion": 0.022400000000000003,
          "D7 Payers": 88,
          "Impressions": 1000593,
          "Time": "2018-09-01",
          "fCVR": 0.0039000000000000003
         },
         {
          "CTR": 0.0313,
          "Click to Install": 11.4,
          "Clicks": 38675,
          "Cohort Size": 4425,
          "D7 Payer Conversion": 0.0231,
          "D7 Payers": 102,
          "Impressions": 1235620,
          "Time": "2018-09-02",
          "fCVR": 0.0036
         },
         {
          "CTR": 0.031,
          "Click to Install": 10.3,
          "Clicks": 40821,
          "Cohort Size": 4195,
          "D7 Payer Conversion": 0.0195,
          "D7 Payers": 82,
          "Impressions": 1318256,
          "Time": "2018-09-03",
          "fCVR": 0.0032
         },
         {
          "CTR": 0.0274,
          "Click to Install": 11.1,
          "Clicks": 31356,
          "Cohort Size": 3475,
          "D7 Payer Conversion": 0.0253,
          "D7 Payers": 88,
          "Impressions": 1144845,
          "Time": "2018-09-04",
          "fCVR": 0.003
         },
         {
          "CTR": 0.029900000000000003,
          "Click to Install": 9.2,
          "Clicks": 34715,
          "Cohort Size": 3205,
          "D7 Payer Conversion": 0.023399999999999997,
          "D7 Payers": 75,
          "Impressions": 1159113,
          "Time": "2018-09-05",
          "fCVR": 0.0028000000000000004
         },
         {
          "CTR": 0.031200000000000002,
          "Click to Install": 6.8,
          "Clicks": 43913,
          "Cohort Size": 2974,
          "D7 Payer Conversion": 0.0276,
          "D7 Payers": 82,
          "Impressions": 1409692,
          "Time": "2018-09-06",
          "fCVR": 0.0021
         },
         {
          "CTR": 0.0323,
          "Click to Install": 7.1,
          "Clicks": 42685,
          "Cohort Size": 3029,
          "D7 Payer Conversion": 0.026699999999999998,
          "D7 Payers": 81,
          "Impressions": 1320359,
          "Time": "2018-09-07",
          "fCVR": 0.0023
         },
         {
          "CTR": 0.0391,
          "Click to Install": 6.9,
          "Clicks": 53271,
          "Cohort Size": 3663,
          "D7 Payer Conversion": 0.0259,
          "D7 Payers": 95,
          "Impressions": 1361364,
          "Time": "2018-09-08",
          "fCVR": 0.0027
         },
         {
          "CTR": 0.0392,
          "Click to Install": 6.6,
          "Clicks": 57029,
          "Cohort Size": 3769,
          "D7 Payer Conversion": 0.0226,
          "D7 Payers": 85,
          "Impressions": 1456486,
          "Time": "2018-09-09",
          "fCVR": 0.0026
         },
         {
          "CTR": 0.0318,
          "Click to Install": 7.9,
          "Clicks": 39869,
          "Cohort Size": 3137,
          "D7 Payer Conversion": 0.0274,
          "D7 Payers": 86,
          "Impressions": 1253203,
          "Time": "2018-09-10",
          "fCVR": 0.0025
         },
         {
          "CTR": 0.032,
          "Click to Install": 6.9,
          "Clicks": 46343,
          "Cohort Size": 3192,
          "D7 Payer Conversion": 0.0279,
          "D7 Payers": 89,
          "Impressions": 1448567,
          "Time": "2018-09-11",
          "fCVR": 0.0022
         },
         {
          "CTR": 0.0296,
          "Click to Install": 7.4,
          "Clicks": 41577,
          "Cohort Size": 3087,
          "D7 Payer Conversion": 0.0285,
          "D7 Payers": 88,
          "Impressions": 1405218,
          "Time": "2018-09-12",
          "fCVR": 0.0022
         },
         {
          "CTR": 0.0282,
          "Click to Install": 7.8,
          "Clicks": 44253,
          "Cohort Size": 3447,
          "D7 Payer Conversion": 0.0342,
          "D7 Payers": 118,
          "Impressions": 1566663,
          "Time": "2018-09-13",
          "fCVR": 0.0022
         },
         {
          "CTR": 0.0275,
          "Click to Install": 8.3,
          "Clicks": 37678,
          "Cohort Size": 3119,
          "D7 Payer Conversion": 0.0305,
          "D7 Payers": 95,
          "Impressions": 1371972,
          "Time": "2018-09-14",
          "fCVR": 0.0023
         },
         {
          "CTR": 0.0325,
          "Click to Install": 8.2,
          "Clicks": 44254,
          "Cohort Size": 3608,
          "D7 Payer Conversion": 0.0294,
          "D7 Payers": 106,
          "Impressions": 1359780,
          "Time": "2018-09-15",
          "fCVR": 0.0027
         },
         {
          "CTR": 0.030899999999999997,
          "Click to Install": 8.3,
          "Clicks": 43928,
          "Cohort Size": 3658,
          "D7 Payer Conversion": 0.030899999999999997,
          "D7 Payers": 113,
          "Impressions": 1419329,
          "Time": "2018-09-16",
          "fCVR": 0.0026
         },
         {
          "CTR": 0.0275,
          "Click to Install": 8.4,
          "Clicks": 32327,
          "Cohort Size": 2721,
          "D7 Payer Conversion": 0.0323,
          "D7 Payers": 88,
          "Impressions": 1174032,
          "Time": "2018-09-17",
          "fCVR": 0.0023
         },
         {
          "CTR": 0.0285,
          "Click to Install": 8.2,
          "Clicks": 29180,
          "Cohort Size": 2390,
          "D7 Payer Conversion": 0.0226,
          "D7 Payers": 54,
          "Impressions": 1023391,
          "Time": "2018-09-18",
          "fCVR": 0.0023
         },
         {
          "CTR": 0.0259,
          "Click to Install": 8.7,
          "Clicks": 29435,
          "Cohort Size": 2565,
          "D7 Payer Conversion": 0.0308,
          "D7 Payers": 79,
          "Impressions": 1134678,
          "Time": "2018-09-19",
          "fCVR": 0.0023
         },
         {
          "CTR": 0.027999999999999997,
          "Click to Install": 8.9,
          "Clicks": 28172,
          "Cohort Size": 2516,
          "D7 Payer Conversion": 0.0338,
          "D7 Payers": 85,
          "Impressions": 1006182,
          "Time": "2018-09-20",
          "fCVR": 0.0025
         },
         {
          "CTR": 0.026099999999999998,
          "Click to Install": 9.2,
          "Clicks": 28814,
          "Cohort Size": 2644,
          "D7 Payer Conversion": 0.028399999999999998,
          "D7 Payers": 75,
          "Impressions": 1105777,
          "Time": "2018-09-21",
          "fCVR": 0.0024
         },
         {
          "CTR": 0.0325,
          "Click to Install": 8.7,
          "Clicks": 35713,
          "Cohort Size": 3111,
          "D7 Payer Conversion": 0.022799999999999997,
          "D7 Payers": 71,
          "Impressions": 1099185,
          "Time": "2018-09-22",
          "fCVR": 0.0028000000000000004
         },
         {
          "CTR": 0.030699999999999998,
          "Click to Install": 8.9,
          "Clicks": 39284,
          "Cohort Size": 3481,
          "D7 Payer Conversion": 0.023799999999999998,
          "D7 Payers": 83,
          "Impressions": 1277943,
          "Time": "2018-09-23",
          "fCVR": 0.0027
         },
         {
          "CTR": 0.0241,
          "Click to Install": 9.9,
          "Clicks": 30631,
          "Cohort Size": 3027,
          "D7 Payer Conversion": 0.033,
          "D7 Payers": 100,
          "Impressions": 1273232,
          "Time": "2018-09-24",
          "fCVR": 0.0024
         },
         {
          "CTR": 0.024399999999999998,
          "Click to Install": 9.2,
          "Clicks": 30962,
          "Cohort Size": 2838,
          "D7 Payer Conversion": 0.0268,
          "D7 Payers": 76,
          "Impressions": 1271144,
          "Time": "2018-09-25",
          "fCVR": 0.0022
         },
         {
          "CTR": 0.0279,
          "Click to Install": 8.5,
          "Clicks": 34439,
          "Cohort Size": 2930,
          "D7 Payer Conversion": 0.0273,
          "D7 Payers": 80,
          "Impressions": 1235172,
          "Time": "2018-09-26",
          "fCVR": 0.0024
         },
         {
          "CTR": 0.027000000000000003,
          "Click to Install": 8.6,
          "Clicks": 31953,
          "Cohort Size": 2751,
          "D7 Payer Conversion": 0.024700000000000003,
          "D7 Payers": 68,
          "Impressions": 1181530,
          "Time": "2018-09-27",
          "fCVR": 0.0023
         },
         {
          "CTR": 0.0253,
          "Click to Install": 8.8,
          "Clicks": 30722,
          "Cohort Size": 2712,
          "D7 Payer Conversion": 0.0288,
          "D7 Payers": 78,
          "Impressions": 1214674,
          "Time": "2018-09-28",
          "fCVR": 0.0022
         },
         {
          "CTR": 0.029500000000000002,
          "Click to Install": 8,
          "Clicks": 39313,
          "Cohort Size": 3133,
          "D7 Payer Conversion": 0.0281,
          "D7 Payers": 88,
          "Impressions": 1331501,
          "Time": "2018-09-29",
          "fCVR": 0.0024
         },
         {
          "CTR": 0.0275,
          "Click to Install": 7.6,
          "Clicks": 45079,
          "Cohort Size": 3413,
          "D7 Payer Conversion": 0.031400000000000004,
          "D7 Payers": 107,
          "Impressions": 1642131,
          "Time": "2018-09-30",
          "fCVR": 0.0021
         }
        ]
       },
       "layer": [
        {
         "data": {
          "name": "data-b3c0feaba3a5c5d72e3465bd46c809b2"
         },
         "encoding": {
          "color": {
           "field": "D7 Payer Conversion",
           "type": "quantitative"
          },
          "x": {
           "field": "Time",
           "type": "nominal"
          },
          "y": {
           "field": "Cohort Size",
           "type": "quantitative"
          }
         },
         "height": 300,
         "mark": "bar",
         "selection": {
          "selector004": {
           "encodings": [
            "x"
           ],
           "mark": {
            "fill": "#333",
            "fillOpacity": 0.125,
            "stroke": "white"
           },
           "on": "[mousedown, window:mouseup] > window:mousemove!",
           "resolve": "global",
           "translate": "[mousedown, window:mouseup] > window:mousemove!",
           "type": "interval",
           "zoom": "wheel!"
          }
         },
         "title": "Installs aka \"Cohort Size\" vs D7 Payers (color density = \"D7 Payer Conversion\" rate)",
         "transform": [
          {
           "filter": {
            "selection": "selector004"
           }
          }
         ],
         "width": 450
        },
        {
         "data": {
          "name": "data-b3c0feaba3a5c5d72e3465bd46c809b2"
         },
         "encoding": {
          "x": {
           "field": "Time",
           "type": "nominal"
          },
          "y": {
           "field": "D7 Payers",
           "type": "quantitative"
          }
         },
         "mark": {
          "color": "red",
          "type": "line"
         }
        }
       ],
       "resolve": {
        "scale": {
         "color": "independent",
         "x": "shared",
         "y": "independent"
        }
       }
      },
      "image/png": "[encoded data removed]",
      "text/plain": [
       "<VegaLite 2 object>\n",
       "\n",
       "If you see this message, it means the renderer has not been properly enabled\n",
       "for the frontend that you are using. For more information, see\n",
       "https://altair-viz.github.io/user_guide/troubleshooting.html\n"
      ]
     },
     "execution_count": 11,
     "metadata": {},
     "output_type": "execute_result"
    }
   ],
   "source": [
    "pts = alt.selection(type='interval', encodings=['x'])\n",
    "\n",
    "base = alt.Chart(df).encode(\n",
    "    alt.X('Time:N')\n",
    ")\n",
    "\n",
    "bar = base.mark_bar().encode(\n",
    "    y='Cohort Size:Q',\n",
    "    color=alt.Color('D7 Payer Conversion:Q')\n",
    ").transform_filter(\n",
    "    pts\n",
    ").properties(\n",
    "    selection=pts,\n",
    "    width=450,\n",
    "    height=300,\n",
    "    title='Installs aka \"Cohort Size\" vs D7 Payers (color density = \"D7 Payer Conversion\" rate)'\n",
    ")\n",
    "\n",
    "line = base.mark_line(color='red').encode(\n",
    "    y='D7 Payers:Q',\n",
    ")\n",
    "\n",
    "layer1 = alt.layer(\n",
    "    bar,\n",
    "    line\n",
    ").resolve_scale(\n",
    "    y='independent', color='independent'\n",
    ")\n",
    "\n",
    "layer1"
   ]
  },
  {
   "cell_type": "markdown",
   "metadata": {},
   "source": [
    "### KPI Comparison: CTR vs fCVR vs D7 Payer Conversion Rate aka \"D7CVR\"\n",
    "\n",
    "Lets see how the three KPIs match up against each other."
   ]
  },
  {
   "cell_type": "code",
   "execution_count": 12,
   "metadata": {
    "code_folding": [],
    "jupyter": {
     "source_hidden": true
    }
   },
   "outputs": [
    {
     "data": {
      "application/vnd.vegalite.v2+json": {
       "$schema": "https://vega.github.io/schema/vega-lite/v2.6.0.json",
       "config": {
        "view": {
         "height": 300,
         "width": 400
        }
       },
       "datasets": {
        "data-b3c0feaba3a5c5d72e3465bd46c809b2": [
         {
          "CTR": 0.0334,
          "Click to Install": 11.8,
          "Clicks": 33371,
          "Cohort Size": 3925,
          "D7 Payer Conversion": 0.022400000000000003,
          "D7 Payers": 88,
          "Impressions": 1000593,
          "Time": "2018-09-01",
          "fCVR": 0.0039000000000000003
         },
         {
          "CTR": 0.0313,
          "Click to Install": 11.4,
          "Clicks": 38675,
          "Cohort Size": 4425,
          "D7 Payer Conversion": 0.0231,
          "D7 Payers": 102,
          "Impressions": 1235620,
          "Time": "2018-09-02",
          "fCVR": 0.0036
         },
         {
          "CTR": 0.031,
          "Click to Install": 10.3,
          "Clicks": 40821,
          "Cohort Size": 4195,
          "D7 Payer Conversion": 0.0195,
          "D7 Payers": 82,
          "Impressions": 1318256,
          "Time": "2018-09-03",
          "fCVR": 0.0032
         },
         {
          "CTR": 0.0274,
          "Click to Install": 11.1,
          "Clicks": 31356,
          "Cohort Size": 3475,
          "D7 Payer Conversion": 0.0253,
          "D7 Payers": 88,
          "Impressions": 1144845,
          "Time": "2018-09-04",
          "fCVR": 0.003
         },
         {
          "CTR": 0.029900000000000003,
          "Click to Install": 9.2,
          "Clicks": 34715,
          "Cohort Size": 3205,
          "D7 Payer Conversion": 0.023399999999999997,
          "D7 Payers": 75,
          "Impressions": 1159113,
          "Time": "2018-09-05",
          "fCVR": 0.0028000000000000004
         },
         {
          "CTR": 0.031200000000000002,
          "Click to Install": 6.8,
          "Clicks": 43913,
          "Cohort Size": 2974,
          "D7 Payer Conversion": 0.0276,
          "D7 Payers": 82,
          "Impressions": 1409692,
          "Time": "2018-09-06",
          "fCVR": 0.0021
         },
         {
          "CTR": 0.0323,
          "Click to Install": 7.1,
          "Clicks": 42685,
          "Cohort Size": 3029,
          "D7 Payer Conversion": 0.026699999999999998,
          "D7 Payers": 81,
          "Impressions": 1320359,
          "Time": "2018-09-07",
          "fCVR": 0.0023
         },
         {
          "CTR": 0.0391,
          "Click to Install": 6.9,
          "Clicks": 53271,
          "Cohort Size": 3663,
          "D7 Payer Conversion": 0.0259,
          "D7 Payers": 95,
          "Impressions": 1361364,
          "Time": "2018-09-08",
          "fCVR": 0.0027
         },
         {
          "CTR": 0.0392,
          "Click to Install": 6.6,
          "Clicks": 57029,
          "Cohort Size": 3769,
          "D7 Payer Conversion": 0.0226,
          "D7 Payers": 85,
          "Impressions": 1456486,
          "Time": "2018-09-09",
          "fCVR": 0.0026
         },
         {
          "CTR": 0.0318,
          "Click to Install": 7.9,
          "Clicks": 39869,
          "Cohort Size": 3137,
          "D7 Payer Conversion": 0.0274,
          "D7 Payers": 86,
          "Impressions": 1253203,
          "Time": "2018-09-10",
          "fCVR": 0.0025
         },
         {
          "CTR": 0.032,
          "Click to Install": 6.9,
          "Clicks": 46343,
          "Cohort Size": 3192,
          "D7 Payer Conversion": 0.0279,
          "D7 Payers": 89,
          "Impressions": 1448567,
          "Time": "2018-09-11",
          "fCVR": 0.0022
         },
         {
          "CTR": 0.0296,
          "Click to Install": 7.4,
          "Clicks": 41577,
          "Cohort Size": 3087,
          "D7 Payer Conversion": 0.0285,
          "D7 Payers": 88,
          "Impressions": 1405218,
          "Time": "2018-09-12",
          "fCVR": 0.0022
         },
         {
          "CTR": 0.0282,
          "Click to Install": 7.8,
          "Clicks": 44253,
          "Cohort Size": 3447,
          "D7 Payer Conversion": 0.0342,
          "D7 Payers": 118,
          "Impressions": 1566663,
          "Time": "2018-09-13",
          "fCVR": 0.0022
         },
         {
          "CTR": 0.0275,
          "Click to Install": 8.3,
          "Clicks": 37678,
          "Cohort Size": 3119,
          "D7 Payer Conversion": 0.0305,
          "D7 Payers": 95,
          "Impressions": 1371972,
          "Time": "2018-09-14",
          "fCVR": 0.0023
         },
         {
          "CTR": 0.0325,
          "Click to Install": 8.2,
          "Clicks": 44254,
          "Cohort Size": 3608,
          "D7 Payer Conversion": 0.0294,
          "D7 Payers": 106,
          "Impressions": 1359780,
          "Time": "2018-09-15",
          "fCVR": 0.0027
         },
         {
          "CTR": 0.030899999999999997,
          "Click to Install": 8.3,
          "Clicks": 43928,
          "Cohort Size": 3658,
          "D7 Payer Conversion": 0.030899999999999997,
          "D7 Payers": 113,
          "Impressions": 1419329,
          "Time": "2018-09-16",
          "fCVR": 0.0026
         },
         {
          "CTR": 0.0275,
          "Click to Install": 8.4,
          "Clicks": 32327,
          "Cohort Size": 2721,
          "D7 Payer Conversion": 0.0323,
          "D7 Payers": 88,
          "Impressions": 1174032,
          "Time": "2018-09-17",
          "fCVR": 0.0023
         },
         {
          "CTR": 0.0285,
          "Click to Install": 8.2,
          "Clicks": 29180,
          "Cohort Size": 2390,
          "D7 Payer Conversion": 0.0226,
          "D7 Payers": 54,
          "Impressions": 1023391,
          "Time": "2018-09-18",
          "fCVR": 0.0023
         },
         {
          "CTR": 0.0259,
          "Click to Install": 8.7,
          "Clicks": 29435,
          "Cohort Size": 2565,
          "D7 Payer Conversion": 0.0308,
          "D7 Payers": 79,
          "Impressions": 1134678,
          "Time": "2018-09-19",
          "fCVR": 0.0023
         },
         {
          "CTR": 0.027999999999999997,
          "Click to Install": 8.9,
          "Clicks": 28172,
          "Cohort Size": 2516,
          "D7 Payer Conversion": 0.0338,
          "D7 Payers": 85,
          "Impressions": 1006182,
          "Time": "2018-09-20",
          "fCVR": 0.0025
         },
         {
          "CTR": 0.026099999999999998,
          "Click to Install": 9.2,
          "Clicks": 28814,
          "Cohort Size": 2644,
          "D7 Payer Conversion": 0.028399999999999998,
          "D7 Payers": 75,
          "Impressions": 1105777,
          "Time": "2018-09-21",
          "fCVR": 0.0024
         },
         {
          "CTR": 0.0325,
          "Click to Install": 8.7,
          "Clicks": 35713,
          "Cohort Size": 3111,
          "D7 Payer Conversion": 0.022799999999999997,
          "D7 Payers": 71,
          "Impressions": 1099185,
          "Time": "2018-09-22",
          "fCVR": 0.0028000000000000004
         },
         {
          "CTR": 0.030699999999999998,
          "Click to Install": 8.9,
          "Clicks": 39284,
          "Cohort Size": 3481,
          "D7 Payer Conversion": 0.023799999999999998,
          "D7 Payers": 83,
          "Impressions": 1277943,
          "Time": "2018-09-23",
          "fCVR": 0.0027
         },
         {
          "CTR": 0.0241,
          "Click to Install": 9.9,
          "Clicks": 30631,
          "Cohort Size": 3027,
          "D7 Payer Conversion": 0.033,
          "D7 Payers": 100,
          "Impressions": 1273232,
          "Time": "2018-09-24",
          "fCVR": 0.0024
         },
         {
          "CTR": 0.024399999999999998,
          "Click to Install": 9.2,
          "Clicks": 30962,
          "Cohort Size": 2838,
          "D7 Payer Conversion": 0.0268,
          "D7 Payers": 76,
          "Impressions": 1271144,
          "Time": "2018-09-25",
          "fCVR": 0.0022
         },
         {
          "CTR": 0.0279,
          "Click to Install": 8.5,
          "Clicks": 34439,
          "Cohort Size": 2930,
          "D7 Payer Conversion": 0.0273,
          "D7 Payers": 80,
          "Impressions": 1235172,
          "Time": "2018-09-26",
          "fCVR": 0.0024
         },
         {
          "CTR": 0.027000000000000003,
          "Click to Install": 8.6,
          "Clicks": 31953,
          "Cohort Size": 2751,
          "D7 Payer Conversion": 0.024700000000000003,
          "D7 Payers": 68,
          "Impressions": 1181530,
          "Time": "2018-09-27",
          "fCVR": 0.0023
         },
         {
          "CTR": 0.0253,
          "Click to Install": 8.8,
          "Clicks": 30722,
          "Cohort Size": 2712,
          "D7 Payer Conversion": 0.0288,
          "D7 Payers": 78,
          "Impressions": 1214674,
          "Time": "2018-09-28",
          "fCVR": 0.0022
         },
         {
          "CTR": 0.029500000000000002,
          "Click to Install": 8,
          "Clicks": 39313,
          "Cohort Size": 3133,
          "D7 Payer Conversion": 0.0281,
          "D7 Payers": 88,
          "Impressions": 1331501,
          "Time": "2018-09-29",
          "fCVR": 0.0024
         },
         {
          "CTR": 0.0275,
          "Click to Install": 7.6,
          "Clicks": 45079,
          "Cohort Size": 3413,
          "D7 Payer Conversion": 0.031400000000000004,
          "D7 Payers": 107,
          "Impressions": 1642131,
          "Time": "2018-09-30",
          "fCVR": 0.0021
         }
        ]
       },
       "repeat": {
        "column": [
         "CTR",
         "fCVR",
         "D7 Payer Conversion"
        ]
       },
       "spec": {
        "data": {
         "name": "data-b3c0feaba3a5c5d72e3465bd46c809b2"
        },
        "layer": [
         {
          "data": {
           "name": "data-b3c0feaba3a5c5d72e3465bd46c809b2"
          },
          "encoding": {
           "x": {
            "field": "Time",
            "type": "ordinal"
           },
           "y": {
            "axis": {
             "format": "%"
            },
            "field": {
             "repeat": "column"
            },
            "type": "quantitative"
           }
          },
          "height": 200,
          "mark": "line",
          "selection": {
           "selector005": {
            "encodings": [
             "x"
            ],
            "mark": {
             "fill": "#333",
             "fillOpacity": 0.125,
             "stroke": "white"
            },
            "on": "[mousedown, window:mouseup] > window:mousemove!",
            "resolve": "global",
            "translate": "[mousedown, window:mouseup] > window:mousemove!",
            "type": "interval",
            "zoom": "wheel!"
           }
          },
          "width": 250
         },
         {
          "data": {
           "name": "data-b3c0feaba3a5c5d72e3465bd46c809b2"
          },
          "encoding": {
           "color": {
            "value": "bluegreen"
           },
           "x": {
            "field": "Time",
            "type": "ordinal"
           },
           "y": {
            "axis": {
             "format": "%"
            },
            "field": {
             "repeat": "column"
            },
            "type": "quantitative"
           }
          },
          "height": 200,
          "mark": "line",
          "transform": [
           {
            "filter": {
             "selection": "selector005"
            }
           }
          ],
          "width": 250
         }
        ]
       }
      },
      "image/png": "[encoded data removed]",
      "text/plain": [
       "<VegaLite 2 object>\n",
       "\n",
       "If you see this message, it means the renderer has not been properly enabled\n",
       "for the frontend that you are using. For more information, see\n",
       "https://altair-viz.github.io/user_guide/troubleshooting.html\n"
      ]
     },
     "execution_count": 12,
     "metadata": {},
     "output_type": "execute_result"
    }
   ],
   "source": [
    "\n",
    "brush = alt.selection(type='interval', encodings=['x'])\n",
    "\n",
    "# Define the base chart, with the common parts of the\n",
    "# background and highlights\n",
    "base = alt.Chart(df).mark_line().encode(\n",
    "    y=alt.X(alt.repeat('column'), type='quantitative',axis=alt.Axis(format='%')),\n",
    "    x='Time:O'\n",
    ").properties(\n",
    "    width=250,\n",
    "    height=200\n",
    ")\n",
    "\n",
    "# blue background with selection\n",
    "background = base.properties(\n",
    "    selection=brush\n",
    ")\n",
    "\n",
    "# yellow highlights on the transformed data\n",
    "highlight = base.encode(\n",
    "    color=alt.value('bluegreen')\n",
    ").transform_filter(\n",
    "    brush\n",
    ")\n",
    "\n",
    "# layer the two charts & repeat\n",
    "alt.layer(\n",
    "    background, highlight,\n",
    "    data=df\n",
    ").repeat(\n",
    "    column=[\"CTR\", \"fCVR\", \"D7 Payer Conversion\"]\n",
    ")"
   ]
  },
  {
   "cell_type": "code",
   "execution_count": 13,
   "metadata": {},
   "outputs": [
    {
     "data": {
      "application/vnd.vegalite.v2+json": {
       "$schema": "https://vega.github.io/schema/vega-lite/v2.6.0.json",
       "config": {
        "view": {
         "height": 300,
         "width": 400
        }
       },
       "datasets": {
        "data-b3c0feaba3a5c5d72e3465bd46c809b2": [
         {
          "CTR": 0.0334,
          "Click to Install": 11.8,
          "Clicks": 33371,
          "Cohort Size": 3925,
          "D7 Payer Conversion": 0.022400000000000003,
          "D7 Payers": 88,
          "Impressions": 1000593,
          "Time": "2018-09-01",
          "fCVR": 0.0039000000000000003
         },
         {
          "CTR": 0.0313,
          "Click to Install": 11.4,
          "Clicks": 38675,
          "Cohort Size": 4425,
          "D7 Payer Conversion": 0.0231,
          "D7 Payers": 102,
          "Impressions": 1235620,
          "Time": "2018-09-02",
          "fCVR": 0.0036
         },
         {
          "CTR": 0.031,
          "Click to Install": 10.3,
          "Clicks": 40821,
          "Cohort Size": 4195,
          "D7 Payer Conversion": 0.0195,
          "D7 Payers": 82,
          "Impressions": 1318256,
          "Time": "2018-09-03",
          "fCVR": 0.0032
         },
         {
          "CTR": 0.0274,
          "Click to Install": 11.1,
          "Clicks": 31356,
          "Cohort Size": 3475,
          "D7 Payer Conversion": 0.0253,
          "D7 Payers": 88,
          "Impressions": 1144845,
          "Time": "2018-09-04",
          "fCVR": 0.003
         },
         {
          "CTR": 0.029900000000000003,
          "Click to Install": 9.2,
          "Clicks": 34715,
          "Cohort Size": 3205,
          "D7 Payer Conversion": 0.023399999999999997,
          "D7 Payers": 75,
          "Impressions": 1159113,
          "Time": "2018-09-05",
          "fCVR": 0.0028000000000000004
         },
         {
          "CTR": 0.031200000000000002,
          "Click to Install": 6.8,
          "Clicks": 43913,
          "Cohort Size": 2974,
          "D7 Payer Conversion": 0.0276,
          "D7 Payers": 82,
          "Impressions": 1409692,
          "Time": "2018-09-06",
          "fCVR": 0.0021
         },
         {
          "CTR": 0.0323,
          "Click to Install": 7.1,
          "Clicks": 42685,
          "Cohort Size": 3029,
          "D7 Payer Conversion": 0.026699999999999998,
          "D7 Payers": 81,
          "Impressions": 1320359,
          "Time": "2018-09-07",
          "fCVR": 0.0023
         },
         {
          "CTR": 0.0391,
          "Click to Install": 6.9,
          "Clicks": 53271,
          "Cohort Size": 3663,
          "D7 Payer Conversion": 0.0259,
          "D7 Payers": 95,
          "Impressions": 1361364,
          "Time": "2018-09-08",
          "fCVR": 0.0027
         },
         {
          "CTR": 0.0392,
          "Click to Install": 6.6,
          "Clicks": 57029,
          "Cohort Size": 3769,
          "D7 Payer Conversion": 0.0226,
          "D7 Payers": 85,
          "Impressions": 1456486,
          "Time": "2018-09-09",
          "fCVR": 0.0026
         },
         {
          "CTR": 0.0318,
          "Click to Install": 7.9,
          "Clicks": 39869,
          "Cohort Size": 3137,
          "D7 Payer Conversion": 0.0274,
          "D7 Payers": 86,
          "Impressions": 1253203,
          "Time": "2018-09-10",
          "fCVR": 0.0025
         },
         {
          "CTR": 0.032,
          "Click to Install": 6.9,
          "Clicks": 46343,
          "Cohort Size": 3192,
          "D7 Payer Conversion": 0.0279,
          "D7 Payers": 89,
          "Impressions": 1448567,
          "Time": "2018-09-11",
          "fCVR": 0.0022
         },
         {
          "CTR": 0.0296,
          "Click to Install": 7.4,
          "Clicks": 41577,
          "Cohort Size": 3087,
          "D7 Payer Conversion": 0.0285,
          "D7 Payers": 88,
          "Impressions": 1405218,
          "Time": "2018-09-12",
          "fCVR": 0.0022
         },
         {
          "CTR": 0.0282,
          "Click to Install": 7.8,
          "Clicks": 44253,
          "Cohort Size": 3447,
          "D7 Payer Conversion": 0.0342,
          "D7 Payers": 118,
          "Impressions": 1566663,
          "Time": "2018-09-13",
          "fCVR": 0.0022
         },
         {
          "CTR": 0.0275,
          "Click to Install": 8.3,
          "Clicks": 37678,
          "Cohort Size": 3119,
          "D7 Payer Conversion": 0.0305,
          "D7 Payers": 95,
          "Impressions": 1371972,
          "Time": "2018-09-14",
          "fCVR": 0.0023
         },
         {
          "CTR": 0.0325,
          "Click to Install": 8.2,
          "Clicks": 44254,
          "Cohort Size": 3608,
          "D7 Payer Conversion": 0.0294,
          "D7 Payers": 106,
          "Impressions": 1359780,
          "Time": "2018-09-15",
          "fCVR": 0.0027
         },
         {
          "CTR": 0.030899999999999997,
          "Click to Install": 8.3,
          "Clicks": 43928,
          "Cohort Size": 3658,
          "D7 Payer Conversion": 0.030899999999999997,
          "D7 Payers": 113,
          "Impressions": 1419329,
          "Time": "2018-09-16",
          "fCVR": 0.0026
         },
         {
          "CTR": 0.0275,
          "Click to Install": 8.4,
          "Clicks": 32327,
          "Cohort Size": 2721,
          "D7 Payer Conversion": 0.0323,
          "D7 Payers": 88,
          "Impressions": 1174032,
          "Time": "2018-09-17",
          "fCVR": 0.0023
         },
         {
          "CTR": 0.0285,
          "Click to Install": 8.2,
          "Clicks": 29180,
          "Cohort Size": 2390,
          "D7 Payer Conversion": 0.0226,
          "D7 Payers": 54,
          "Impressions": 1023391,
          "Time": "2018-09-18",
          "fCVR": 0.0023
         },
         {
          "CTR": 0.0259,
          "Click to Install": 8.7,
          "Clicks": 29435,
          "Cohort Size": 2565,
          "D7 Payer Conversion": 0.0308,
          "D7 Payers": 79,
          "Impressions": 1134678,
          "Time": "2018-09-19",
          "fCVR": 0.0023
         },
         {
          "CTR": 0.027999999999999997,
          "Click to Install": 8.9,
          "Clicks": 28172,
          "Cohort Size": 2516,
          "D7 Payer Conversion": 0.0338,
          "D7 Payers": 85,
          "Impressions": 1006182,
          "Time": "2018-09-20",
          "fCVR": 0.0025
         },
         {
          "CTR": 0.026099999999999998,
          "Click to Install": 9.2,
          "Clicks": 28814,
          "Cohort Size": 2644,
          "D7 Payer Conversion": 0.028399999999999998,
          "D7 Payers": 75,
          "Impressions": 1105777,
          "Time": "2018-09-21",
          "fCVR": 0.0024
         },
         {
          "CTR": 0.0325,
          "Click to Install": 8.7,
          "Clicks": 35713,
          "Cohort Size": 3111,
          "D7 Payer Conversion": 0.022799999999999997,
          "D7 Payers": 71,
          "Impressions": 1099185,
          "Time": "2018-09-22",
          "fCVR": 0.0028000000000000004
         },
         {
          "CTR": 0.030699999999999998,
          "Click to Install": 8.9,
          "Clicks": 39284,
          "Cohort Size": 3481,
          "D7 Payer Conversion": 0.023799999999999998,
          "D7 Payers": 83,
          "Impressions": 1277943,
          "Time": "2018-09-23",
          "fCVR": 0.0027
         },
         {
          "CTR": 0.0241,
          "Click to Install": 9.9,
          "Clicks": 30631,
          "Cohort Size": 3027,
          "D7 Payer Conversion": 0.033,
          "D7 Payers": 100,
          "Impressions": 1273232,
          "Time": "2018-09-24",
          "fCVR": 0.0024
         },
         {
          "CTR": 0.024399999999999998,
          "Click to Install": 9.2,
          "Clicks": 30962,
          "Cohort Size": 2838,
          "D7 Payer Conversion": 0.0268,
          "D7 Payers": 76,
          "Impressions": 1271144,
          "Time": "2018-09-25",
          "fCVR": 0.0022
         },
         {
          "CTR": 0.0279,
          "Click to Install": 8.5,
          "Clicks": 34439,
          "Cohort Size": 2930,
          "D7 Payer Conversion": 0.0273,
          "D7 Payers": 80,
          "Impressions": 1235172,
          "Time": "2018-09-26",
          "fCVR": 0.0024
         },
         {
          "CTR": 0.027000000000000003,
          "Click to Install": 8.6,
          "Clicks": 31953,
          "Cohort Size": 2751,
          "D7 Payer Conversion": 0.024700000000000003,
          "D7 Payers": 68,
          "Impressions": 1181530,
          "Time": "2018-09-27",
          "fCVR": 0.0023
         },
         {
          "CTR": 0.0253,
          "Click to Install": 8.8,
          "Clicks": 30722,
          "Cohort Size": 2712,
          "D7 Payer Conversion": 0.0288,
          "D7 Payers": 78,
          "Impressions": 1214674,
          "Time": "2018-09-28",
          "fCVR": 0.0022
         },
         {
          "CTR": 0.029500000000000002,
          "Click to Install": 8,
          "Clicks": 39313,
          "Cohort Size": 3133,
          "D7 Payer Conversion": 0.0281,
          "D7 Payers": 88,
          "Impressions": 1331501,
          "Time": "2018-09-29",
          "fCVR": 0.0024
         },
         {
          "CTR": 0.0275,
          "Click to Install": 7.6,
          "Clicks": 45079,
          "Cohort Size": 3413,
          "D7 Payer Conversion": 0.031400000000000004,
          "D7 Payers": 107,
          "Impressions": 1642131,
          "Time": "2018-09-30",
          "fCVR": 0.0021
         }
        ]
       },
       "vconcat": [
        {
         "data": {
          "name": "data-b3c0feaba3a5c5d72e3465bd46c809b2"
         },
         "encoding": {
          "color": {
           "field": "Time",
           "legend": null,
           "type": "ordinal"
          },
          "size": {
           "field": "D7 Payers",
           "type": "quantitative"
          },
          "x": {
           "axis": {
            "format": "%"
           },
           "bin": true,
           "field": "fCVR",
           "type": "quantitative"
          },
          "y": {
           "bin": true,
           "field": "Impressions",
           "type": "quantitative"
          }
         },
         "height": 250,
         "mark": "circle",
         "selection": {
          "selector004": {
           "encodings": [
            "x"
           ],
           "mark": {
            "fill": "#333",
            "fillOpacity": 0.125,
            "stroke": "white"
           },
           "on": "[mousedown, window:mouseup] > window:mousemove!",
           "resolve": "global",
           "translate": "[mousedown, window:mouseup] > window:mousemove!",
           "type": "interval",
           "zoom": "wheel!"
          }
         },
         "title": "Binned Impressions vs fCVR (color density = Progress of Month)",
         "width": 450
        },
        {
         "data": {
          "name": "data-b3c0feaba3a5c5d72e3465bd46c809b2"
         },
         "encoding": {
          "color": {
           "field": "Time",
           "legend": null,
           "type": "ordinal"
          },
          "size": {
           "field": "D7 Payers",
           "type": "quantitative"
          },
          "x": {
           "axis": {
            "format": "%"
           },
           "bin": true,
           "field": "D7 Payer Conversion",
           "type": "quantitative"
          },
          "y": {
           "bin": true,
           "field": "Impressions",
           "type": "quantitative"
          }
         },
         "height": 250,
         "mark": "circle",
         "selection": {
          "selector004": {
           "encodings": [
            "x"
           ],
           "mark": {
            "fill": "#333",
            "fillOpacity": 0.125,
            "stroke": "white"
           },
           "on": "[mousedown, window:mouseup] > window:mousemove!",
           "resolve": "global",
           "translate": "[mousedown, window:mouseup] > window:mousemove!",
           "type": "interval",
           "zoom": "wheel!"
          }
         },
         "title": "Binned Impressions vs D7CVR (color density = Progress of Month)",
         "width": 450
        }
       ]
      },
      "image/png": "[encoded data removed]",
      "text/plain": [
       "<VegaLite 2 object>\n",
       "\n",
       "If you see this message, it means the renderer has not been properly enabled\n",
       "for the frontend that you are using. For more information, see\n",
       "https://altair-viz.github.io/user_guide/troubleshooting.html\n"
      ]
     },
     "execution_count": 13,
     "metadata": {},
     "output_type": "execute_result"
    }
   ],
   "source": [
    "layer1 = alt.Chart(df).mark_circle().encode(\n",
    "    alt.X('fCVR:Q', bin=True,axis=alt.Axis(format='%')),\n",
    "    alt.Y('Impressions:Q', bin=True),\n",
    "    alt.Color('Time:O', legend=None),\n",
    "    size='D7 Payers'\n",
    ").properties(\n",
    "    selection=pts,\n",
    "    width=450,\n",
    "    height=250,\n",
    "    title='Binned Impressions vs fCVR (color density = Progress of Month)'\n",
    ")\n",
    "\n",
    "layer2 = alt.Chart(df).mark_circle().encode(\n",
    "    alt.X('D7 Payer Conversion:Q', bin=True, axis=alt.Axis(format='%')),\n",
    "    alt.Y('Impressions:Q', bin=True),\n",
    "    alt.Color('Time:O', legend=None),\n",
    "    size='D7 Payers'\n",
    ").properties(\n",
    "    selection=pts,\n",
    "    width=450,\n",
    "    height=250,\n",
    "    title='Binned Impressions vs D7CVR (color density = Progress of Month)'\n",
    ")\n",
    "\n",
    "\n",
    "\n",
    "layer1 & layer2"
   ]
  },
  {
   "cell_type": "markdown",
   "metadata": {},
   "source": [
    "### Altair Selections Demo\n",
    "\n",
    "Paint days of month in 1st chart to see filter effect in 2nd chart!"
   ]
  },
  {
   "cell_type": "code",
   "execution_count": 14,
   "metadata": {
    "jupyter": {
     "source_hidden": true
    },
    "scrolled": false
   },
   "outputs": [
    {
     "data": {
      "application/vnd.vegalite.v2+json": {
       "$schema": "https://vega.github.io/schema/vega-lite/v2.6.0.json",
       "config": {
        "view": {
         "height": 300,
         "width": 400
        }
       },
       "datasets": {
        "data-b3c0feaba3a5c5d72e3465bd46c809b2": [
         {
          "CTR": 0.0334,
          "Click to Install": 11.8,
          "Clicks": 33371,
          "Cohort Size": 3925,
          "D7 Payer Conversion": 0.022400000000000003,
          "D7 Payers": 88,
          "Impressions": 1000593,
          "Time": "2018-09-01",
          "fCVR": 0.0039000000000000003
         },
         {
          "CTR": 0.0313,
          "Click to Install": 11.4,
          "Clicks": 38675,
          "Cohort Size": 4425,
          "D7 Payer Conversion": 0.0231,
          "D7 Payers": 102,
          "Impressions": 1235620,
          "Time": "2018-09-02",
          "fCVR": 0.0036
         },
         {
          "CTR": 0.031,
          "Click to Install": 10.3,
          "Clicks": 40821,
          "Cohort Size": 4195,
          "D7 Payer Conversion": 0.0195,
          "D7 Payers": 82,
          "Impressions": 1318256,
          "Time": "2018-09-03",
          "fCVR": 0.0032
         },
         {
          "CTR": 0.0274,
          "Click to Install": 11.1,
          "Clicks": 31356,
          "Cohort Size": 3475,
          "D7 Payer Conversion": 0.0253,
          "D7 Payers": 88,
          "Impressions": 1144845,
          "Time": "2018-09-04",
          "fCVR": 0.003
         },
         {
          "CTR": 0.029900000000000003,
          "Click to Install": 9.2,
          "Clicks": 34715,
          "Cohort Size": 3205,
          "D7 Payer Conversion": 0.023399999999999997,
          "D7 Payers": 75,
          "Impressions": 1159113,
          "Time": "2018-09-05",
          "fCVR": 0.0028000000000000004
         },
         {
          "CTR": 0.031200000000000002,
          "Click to Install": 6.8,
          "Clicks": 43913,
          "Cohort Size": 2974,
          "D7 Payer Conversion": 0.0276,
          "D7 Payers": 82,
          "Impressions": 1409692,
          "Time": "2018-09-06",
          "fCVR": 0.0021
         },
         {
          "CTR": 0.0323,
          "Click to Install": 7.1,
          "Clicks": 42685,
          "Cohort Size": 3029,
          "D7 Payer Conversion": 0.026699999999999998,
          "D7 Payers": 81,
          "Impressions": 1320359,
          "Time": "2018-09-07",
          "fCVR": 0.0023
         },
         {
          "CTR": 0.0391,
          "Click to Install": 6.9,
          "Clicks": 53271,
          "Cohort Size": 3663,
          "D7 Payer Conversion": 0.0259,
          "D7 Payers": 95,
          "Impressions": 1361364,
          "Time": "2018-09-08",
          "fCVR": 0.0027
         },
         {
          "CTR": 0.0392,
          "Click to Install": 6.6,
          "Clicks": 57029,
          "Cohort Size": 3769,
          "D7 Payer Conversion": 0.0226,
          "D7 Payers": 85,
          "Impressions": 1456486,
          "Time": "2018-09-09",
          "fCVR": 0.0026
         },
         {
          "CTR": 0.0318,
          "Click to Install": 7.9,
          "Clicks": 39869,
          "Cohort Size": 3137,
          "D7 Payer Conversion": 0.0274,
          "D7 Payers": 86,
          "Impressions": 1253203,
          "Time": "2018-09-10",
          "fCVR": 0.0025
         },
         {
          "CTR": 0.032,
          "Click to Install": 6.9,
          "Clicks": 46343,
          "Cohort Size": 3192,
          "D7 Payer Conversion": 0.0279,
          "D7 Payers": 89,
          "Impressions": 1448567,
          "Time": "2018-09-11",
          "fCVR": 0.0022
         },
         {
          "CTR": 0.0296,
          "Click to Install": 7.4,
          "Clicks": 41577,
          "Cohort Size": 3087,
          "D7 Payer Conversion": 0.0285,
          "D7 Payers": 88,
          "Impressions": 1405218,
          "Time": "2018-09-12",
          "fCVR": 0.0022
         },
         {
          "CTR": 0.0282,
          "Click to Install": 7.8,
          "Clicks": 44253,
          "Cohort Size": 3447,
          "D7 Payer Conversion": 0.0342,
          "D7 Payers": 118,
          "Impressions": 1566663,
          "Time": "2018-09-13",
          "fCVR": 0.0022
         },
         {
          "CTR": 0.0275,
          "Click to Install": 8.3,
          "Clicks": 37678,
          "Cohort Size": 3119,
          "D7 Payer Conversion": 0.0305,
          "D7 Payers": 95,
          "Impressions": 1371972,
          "Time": "2018-09-14",
          "fCVR": 0.0023
         },
         {
          "CTR": 0.0325,
          "Click to Install": 8.2,
          "Clicks": 44254,
          "Cohort Size": 3608,
          "D7 Payer Conversion": 0.0294,
          "D7 Payers": 106,
          "Impressions": 1359780,
          "Time": "2018-09-15",
          "fCVR": 0.0027
         },
         {
          "CTR": 0.030899999999999997,
          "Click to Install": 8.3,
          "Clicks": 43928,
          "Cohort Size": 3658,
          "D7 Payer Conversion": 0.030899999999999997,
          "D7 Payers": 113,
          "Impressions": 1419329,
          "Time": "2018-09-16",
          "fCVR": 0.0026
         },
         {
          "CTR": 0.0275,
          "Click to Install": 8.4,
          "Clicks": 32327,
          "Cohort Size": 2721,
          "D7 Payer Conversion": 0.0323,
          "D7 Payers": 88,
          "Impressions": 1174032,
          "Time": "2018-09-17",
          "fCVR": 0.0023
         },
         {
          "CTR": 0.0285,
          "Click to Install": 8.2,
          "Clicks": 29180,
          "Cohort Size": 2390,
          "D7 Payer Conversion": 0.0226,
          "D7 Payers": 54,
          "Impressions": 1023391,
          "Time": "2018-09-18",
          "fCVR": 0.0023
         },
         {
          "CTR": 0.0259,
          "Click to Install": 8.7,
          "Clicks": 29435,
          "Cohort Size": 2565,
          "D7 Payer Conversion": 0.0308,
          "D7 Payers": 79,
          "Impressions": 1134678,
          "Time": "2018-09-19",
          "fCVR": 0.0023
         },
         {
          "CTR": 0.027999999999999997,
          "Click to Install": 8.9,
          "Clicks": 28172,
          "Cohort Size": 2516,
          "D7 Payer Conversion": 0.0338,
          "D7 Payers": 85,
          "Impressions": 1006182,
          "Time": "2018-09-20",
          "fCVR": 0.0025
         },
         {
          "CTR": 0.026099999999999998,
          "Click to Install": 9.2,
          "Clicks": 28814,
          "Cohort Size": 2644,
          "D7 Payer Conversion": 0.028399999999999998,
          "D7 Payers": 75,
          "Impressions": 1105777,
          "Time": "2018-09-21",
          "fCVR": 0.0024
         },
         {
          "CTR": 0.0325,
          "Click to Install": 8.7,
          "Clicks": 35713,
          "Cohort Size": 3111,
          "D7 Payer Conversion": 0.022799999999999997,
          "D7 Payers": 71,
          "Impressions": 1099185,
          "Time": "2018-09-22",
          "fCVR": 0.0028000000000000004
         },
         {
          "CTR": 0.030699999999999998,
          "Click to Install": 8.9,
          "Clicks": 39284,
          "Cohort Size": 3481,
          "D7 Payer Conversion": 0.023799999999999998,
          "D7 Payers": 83,
          "Impressions": 1277943,
          "Time": "2018-09-23",
          "fCVR": 0.0027
         },
         {
          "CTR": 0.0241,
          "Click to Install": 9.9,
          "Clicks": 30631,
          "Cohort Size": 3027,
          "D7 Payer Conversion": 0.033,
          "D7 Payers": 100,
          "Impressions": 1273232,
          "Time": "2018-09-24",
          "fCVR": 0.0024
         },
         {
          "CTR": 0.024399999999999998,
          "Click to Install": 9.2,
          "Clicks": 30962,
          "Cohort Size": 2838,
          "D7 Payer Conversion": 0.0268,
          "D7 Payers": 76,
          "Impressions": 1271144,
          "Time": "2018-09-25",
          "fCVR": 0.0022
         },
         {
          "CTR": 0.0279,
          "Click to Install": 8.5,
          "Clicks": 34439,
          "Cohort Size": 2930,
          "D7 Payer Conversion": 0.0273,
          "D7 Payers": 80,
          "Impressions": 1235172,
          "Time": "2018-09-26",
          "fCVR": 0.0024
         },
         {
          "CTR": 0.027000000000000003,
          "Click to Install": 8.6,
          "Clicks": 31953,
          "Cohort Size": 2751,
          "D7 Payer Conversion": 0.024700000000000003,
          "D7 Payers": 68,
          "Impressions": 1181530,
          "Time": "2018-09-27",
          "fCVR": 0.0023
         },
         {
          "CTR": 0.0253,
          "Click to Install": 8.8,
          "Clicks": 30722,
          "Cohort Size": 2712,
          "D7 Payer Conversion": 0.0288,
          "D7 Payers": 78,
          "Impressions": 1214674,
          "Time": "2018-09-28",
          "fCVR": 0.0022
         },
         {
          "CTR": 0.029500000000000002,
          "Click to Install": 8,
          "Clicks": 39313,
          "Cohort Size": 3133,
          "D7 Payer Conversion": 0.0281,
          "D7 Payers": 88,
          "Impressions": 1331501,
          "Time": "2018-09-29",
          "fCVR": 0.0024
         },
         {
          "CTR": 0.0275,
          "Click to Install": 7.6,
          "Clicks": 45079,
          "Cohort Size": 3413,
          "D7 Payer Conversion": 0.031400000000000004,
          "D7 Payers": 107,
          "Impressions": 1642131,
          "Time": "2018-09-30",
          "fCVR": 0.0021
         }
        ]
       },
       "vconcat": [
        {
         "layer": [
          {
           "data": {
            "name": "data-b3c0feaba3a5c5d72e3465bd46c809b2"
           },
           "encoding": {
            "color": {
             "aggregate": "sum",
             "field": "D7 Payer Conversion",
             "legend": null,
             "type": "quantitative"
            },
            "x": {
             "field": "Time",
             "type": "ordinal"
            },
            "y": {
             "field": "D7 Payers",
             "type": "quantitative"
            }
           },
           "height": 300,
           "mark": "bar",
           "selection": {
            "selector006": {
             "encodings": [
              "x"
             ],
             "mark": {
              "fill": "#333",
              "fillOpacity": 0.125,
              "stroke": "white"
             },
             "on": "[mousedown, window:mouseup] > window:mousemove!",
             "resolve": "global",
             "translate": "[mousedown, window:mouseup] > window:mousemove!",
             "type": "interval",
             "zoom": "wheel!"
            }
           },
           "title": "D7 Payers (color density = D7CVR)",
           "transform": [
            {
             "filter": {
              "selection": "selector006"
             }
            }
           ],
           "width": 450
          },
          {
           "data": {
            "name": "data-b3c0feaba3a5c5d72e3465bd46c809b2"
           },
           "encoding": {
            "x": {
             "field": "Time",
             "type": "ordinal"
            },
            "y": {
             "axis": {
              "format": "%"
             },
             "field": "D7 Payer Conversion",
             "type": "quantitative"
            }
           },
           "mark": {
            "color": "red",
            "type": "line"
           }
          }
         ],
         "resolve": {
          "scale": {
           "color": "independent",
           "x": "shared",
           "y": "independent"
          }
         }
        },
        {
         "data": {
          "name": "data-b3c0feaba3a5c5d72e3465bd46c809b2"
         },
         "encoding": {
          "color": {
           "field": "Time",
           "type": "ordinal"
          },
          "size": {
           "field": "D7 Payers",
           "type": "quantitative"
          },
          "x": {
           "axis": {
            "format": "%"
           },
           "bin": true,
           "field": "fCVR",
           "type": "quantitative"
          },
          "y": {
           "bin": true,
           "field": "Impressions",
           "type": "quantitative"
          }
         },
         "height": 250,
         "mark": "circle",
         "selection": {
          "selector006": {
           "encodings": [
            "x"
           ],
           "mark": {
            "fill": "#333",
            "fillOpacity": 0.125,
            "stroke": "white"
           },
           "on": "[mousedown, window:mouseup] > window:mousemove!",
           "resolve": "global",
           "translate": "[mousedown, window:mouseup] > window:mousemove!",
           "type": "interval",
           "zoom": "wheel!"
          }
         },
         "title": "Binned Impressions vs Binned fCVR (color density = Progress of Month)",
         "transform": [
          {
           "filter": {
            "selection": "selector006"
           }
          }
         ],
         "width": 450
        }
       ]
      },
      "image/png": "[encoded data removed]",
      "text/plain": [
       "<VegaLite 2 object>\n",
       "\n",
       "If you see this message, it means the renderer has not been properly enabled\n",
       "for the frontend that you are using. For more information, see\n",
       "https://altair-viz.github.io/user_guide/troubleshooting.html\n"
      ]
     },
     "execution_count": 14,
     "metadata": {},
     "output_type": "execute_result"
    }
   ],
   "source": [
    "pts = alt.selection(type='interval', encodings=['x'])\n",
    "\n",
    "base = alt.Chart(df).encode(\n",
    "    alt.X('Time:O')\n",
    ")\n",
    "\n",
    "bar = base.mark_bar().encode(\n",
    "    y='D7 Payers:Q',\n",
    "    color=alt.Color('sum(D7 Payer Conversion):Q', legend=None)\n",
    ").transform_filter(\n",
    "    pts\n",
    ").properties(\n",
    "    selection=pts,\n",
    "    width=450,\n",
    "    height=300,\n",
    "    title='D7 Payers (color density = D7CVR)'\n",
    ")\n",
    "\n",
    "line = base.mark_line(color='red').encode(\n",
    "    alt.Y('D7 Payer Conversion:Q',axis=alt.Axis(format='%'))\n",
    ")\n",
    "\n",
    "layer1 = alt.layer(\n",
    "    bar,\n",
    "    line\n",
    ").resolve_scale(\n",
    "    y='independent', color='independent'\n",
    ")\n",
    "\n",
    "\n",
    "layer0 = alt.Chart(df).mark_circle().encode(\n",
    "    alt.X('fCVR:Q', bin=True, axis=alt.Axis(format='%')),\n",
    "    alt.Y('Impressions:Q', bin=True),\n",
    "    color='Time:O',\n",
    "    size='D7 Payers'\n",
    ").transform_filter(\n",
    "    pts\n",
    ").properties(\n",
    "    selection=pts,\n",
    "    width=450,\n",
    "    height=250,\n",
    "    title='Binned Impressions vs Binned fCVR (color density = Progress of Month)'\n",
    ")\n",
    "\n",
    "layer1 & layer0 "
   ]
  },
  {
   "cell_type": "code",
   "execution_count": 1,
   "metadata": {},
   "outputs": [
    {
     "ename": "NameError",
     "evalue": "name 'sns' is not defined",
     "output_type": "error",
     "traceback": [
      "\u001b[0;31m---------------------------------------------------------------------------\u001b[0m",
      "\u001b[0;31mNameError\u001b[0m                                 Traceback (most recent call last)",
      "\u001b[0;32m<ipython-input-1-787b17053d92>\u001b[0m in \u001b[0;36m<module>\u001b[0;34m\u001b[0m\n\u001b[0;32m----> 1\u001b[0;31m \u001b[0msns\u001b[0m\u001b[0;34m.\u001b[0m\u001b[0mpairplot\u001b[0m\u001b[0;34m(\u001b[0m\u001b[0mdf\u001b[0m\u001b[0;34m,\u001b[0m \u001b[0mx_vars\u001b[0m\u001b[0;34m=\u001b[0m\u001b[0;34m[\u001b[0m\u001b[0;34m(\u001b[0m\u001b[0;34m'Impressions'\u001b[0m\u001b[0;34m,\u001b[0m\u001b[0;34m'Clicks'\u001b[0m\u001b[0;34m,\u001b[0m\u001b[0;34m'Cohort Size'\u001b[0m\u001b[0;34m)\u001b[0m\u001b[0;34m]\u001b[0m\u001b[0;34m,\u001b[0m \u001b[0my_vars\u001b[0m\u001b[0;34m=\u001b[0m\u001b[0;34m'D7 Payers'\u001b[0m\u001b[0;34m,\u001b[0m \u001b[0mheight\u001b[0m\u001b[0;34m=\u001b[0m\u001b[0;36m7\u001b[0m\u001b[0;34m,\u001b[0m \u001b[0maspect\u001b[0m\u001b[0;34m=\u001b[0m\u001b[0;36m0.7\u001b[0m\u001b[0;34m,\u001b[0m \u001b[0mkind\u001b[0m\u001b[0;34m=\u001b[0m\u001b[0;34m'reg'\u001b[0m\u001b[0;34m)\u001b[0m\u001b[0;34m\u001b[0m\u001b[0;34m\u001b[0m\u001b[0m\n\u001b[0m",
      "\u001b[0;31mNameError\u001b[0m: name 'sns' is not defined"
     ]
    }
   ],
   "source": [
    "sns.pairplot(df, x_vars=[('Impressions','Clicks','Cohort Size')], y_vars='D7 Payers', height=7, aspect=0.7, kind='reg')"
   ]
  },
  {
   "cell_type": "code",
   "execution_count": 66,
   "metadata": {},
   "outputs": [
    {
     "data": {
      "text/html": [
       "<div>\n",
       "<style scoped>\n",
       "    .dataframe tbody tr th:only-of-type {\n",
       "        vertical-align: middle;\n",
       "    }\n",
       "\n",
       "    .dataframe tbody tr th {\n",
       "        vertical-align: top;\n",
       "    }\n",
       "\n",
       "    .dataframe thead th {\n",
       "        text-align: right;\n",
       "    }\n",
       "</style>\n",
       "<table border=\"1\" class=\"dataframe\">\n",
       "  <thead>\n",
       "    <tr style=\"text-align: right;\">\n",
       "      <th></th>\n",
       "      <th>Impressions</th>\n",
       "      <th>Clicks</th>\n",
       "      <th>Cohort Size</th>\n",
       "    </tr>\n",
       "  </thead>\n",
       "  <tbody>\n",
       "    <tr>\n",
       "      <th>0</th>\n",
       "      <td>1000593</td>\n",
       "      <td>33371</td>\n",
       "      <td>3925</td>\n",
       "    </tr>\n",
       "    <tr>\n",
       "      <th>1</th>\n",
       "      <td>1235620</td>\n",
       "      <td>38675</td>\n",
       "      <td>4425</td>\n",
       "    </tr>\n",
       "    <tr>\n",
       "      <th>2</th>\n",
       "      <td>1318256</td>\n",
       "      <td>40821</td>\n",
       "      <td>4195</td>\n",
       "    </tr>\n",
       "    <tr>\n",
       "      <th>3</th>\n",
       "      <td>1144845</td>\n",
       "      <td>31356</td>\n",
       "      <td>3475</td>\n",
       "    </tr>\n",
       "    <tr>\n",
       "      <th>4</th>\n",
       "      <td>1159113</td>\n",
       "      <td>34715</td>\n",
       "      <td>3205</td>\n",
       "    </tr>\n",
       "  </tbody>\n",
       "</table>\n",
       "</div>"
      ],
      "text/plain": [
       "   Impressions  Clicks  Cohort Size\n",
       "0      1000593   33371         3925\n",
       "1      1235620   38675         4425\n",
       "2      1318256   40821         4195\n",
       "3      1144845   31356         3475\n",
       "4      1159113   34715         3205"
      ]
     },
     "execution_count": 66,
     "metadata": {},
     "output_type": "execute_result"
    }
   ],
   "source": [
    "# create a Python list of feature names\n",
    "feature_cols = ['Impressions', 'Clicks', 'Cohort Size']\n",
    "\n",
    "# use the list to select a subset of the original DataFrame\n",
    "X = df[feature_cols]\n",
    "\n",
    "# equivalent command to do this in one line\n",
    "# X = df[['Impressions', 'Clicks', 'Cohort Size']]\n",
    "\n",
    "# print the first 5 rows\n",
    "X.head()"
   ]
  },
  {
   "cell_type": "code",
   "execution_count": 67,
   "metadata": {},
   "outputs": [
    {
     "name": "stdout",
     "output_type": "stream",
     "text": [
      "<class 'pandas.core.frame.DataFrame'>\n",
      "(30, 3)\n"
     ]
    }
   ],
   "source": [
    "# check the type and shape of X\n",
    "print(type(X))\n",
    "print(X.shape)"
   ]
  },
  {
   "cell_type": "code",
   "execution_count": 68,
   "metadata": {},
   "outputs": [
    {
     "data": {
      "text/plain": [
       "0     88\n",
       "1    102\n",
       "2     82\n",
       "3     88\n",
       "4     75\n",
       "Name: D7 Payers, dtype: int64"
      ]
     },
     "execution_count": 68,
     "metadata": {},
     "output_type": "execute_result"
    }
   ],
   "source": [
    "# select a Series from the DataFrame\n",
    "y = df['D7 Payers']\n",
    "\n",
    "# equivalent command that works if there are no spaces in the column name\n",
    "# y = data.Sales\n",
    "\n",
    "# print the first 5 values\n",
    "y.head()"
   ]
  },
  {
   "cell_type": "code",
   "execution_count": 69,
   "metadata": {},
   "outputs": [
    {
     "name": "stdout",
     "output_type": "stream",
     "text": [
      "<class 'pandas.core.series.Series'>\n",
      "(30,)\n"
     ]
    }
   ],
   "source": [
    "# check the type and shape of y\n",
    "print(type(y))\n",
    "print(y.shape)"
   ]
  },
  {
   "cell_type": "code",
   "execution_count": 70,
   "metadata": {},
   "outputs": [],
   "source": [
    "from sklearn.model_selection import train_test_split\n",
    "X_train, X_test, y_train, y_test = train_test_split(X, y, random_state=1)"
   ]
  },
  {
   "cell_type": "code",
   "execution_count": 71,
   "metadata": {},
   "outputs": [
    {
     "name": "stdout",
     "output_type": "stream",
     "text": [
      "(22, 3)\n",
      "(22,)\n",
      "(8, 3)\n",
      "(8,)\n"
     ]
    }
   ],
   "source": [
    "# default split is 75% for training and 25% for testing\n",
    "print(X_train.shape)\n",
    "print(y_train.shape)\n",
    "print(X_test.shape)\n",
    "print(y_test.shape)"
   ]
  },
  {
   "cell_type": "code",
   "execution_count": 72,
   "metadata": {},
   "outputs": [
    {
     "data": {
      "text/plain": [
       "LinearRegression(copy_X=True, fit_intercept=True, n_jobs=None,\n",
       "         normalize=False)"
      ]
     },
     "execution_count": 72,
     "metadata": {},
     "output_type": "execute_result"
    }
   ],
   "source": [
    "# import model\n",
    "from sklearn.linear_model import LinearRegression\n",
    "\n",
    "# instantiate\n",
    "linreg = LinearRegression()\n",
    "\n",
    "# fit the model to the training data (learn the coefficients)\n",
    "linreg.fit(X_train, y_train)"
   ]
  },
  {
   "cell_type": "code",
   "execution_count": 73,
   "metadata": {},
   "outputs": [
    {
     "name": "stdout",
     "output_type": "stream",
     "text": [
      "-11.711974361112624\n",
      "[ 6.94608989e-05 -7.98629176e-04  1.26142187e-02]\n"
     ]
    }
   ],
   "source": [
    "# print the intercept and coefficients\n",
    "print(linreg.intercept_)\n",
    "print(linreg.coef_)"
   ]
  },
  {
   "cell_type": "code",
   "execution_count": 74,
   "metadata": {},
   "outputs": [
    {
     "data": {
      "text/plain": [
       "[('Impressions', 6.946089891007341e-05),\n",
       " ('Clicks', -0.0007986291761238135),\n",
       " ('Cohort Size', 0.01261421874086751)]"
      ]
     },
     "execution_count": 74,
     "metadata": {},
     "output_type": "execute_result"
    }
   ],
   "source": [
    "# pair the feature names with the coefficients\n",
    "list(zip(feature_cols, linreg.coef_))"
   ]
  },
  {
   "cell_type": "code",
   "execution_count": 75,
   "metadata": {},
   "outputs": [],
   "source": [
    "# make predictions on the testing set\n",
    "y_pred = linreg.predict(X_test)"
   ]
  },
  {
   "cell_type": "code",
   "execution_count": 78,
   "metadata": {},
   "outputs": [],
   "source": [
    "X_test2 = [[1000000, 15000, 2000]]"
   ]
  },
  {
   "cell_type": "code",
   "execution_count": 79,
   "metadata": {},
   "outputs": [],
   "source": [
    "# make predictions on new testing set\n",
    "y_pred2 = linreg.predict(X_test2)"
   ]
  },
  {
   "cell_type": "code",
   "execution_count": 80,
   "metadata": {},
   "outputs": [
    {
     "name": "stdout",
     "output_type": "stream",
     "text": [
      "[70.99792439]\n"
     ]
    }
   ],
   "source": [
    "print(y_pred2)"
   ]
  },
  {
   "cell_type": "code",
   "execution_count": 76,
   "metadata": {},
   "outputs": [
    {
     "name": "stdout",
     "output_type": "stream",
     "text": [
      "9.963401117878089\n"
     ]
    }
   ],
   "source": [
    "from sklearn import metrics\n",
    "print(np.sqrt(metrics.mean_squared_error(y_test, y_pred)))"
   ]
  }
 ],
 "metadata": {
  "hide_input": false,
  "kernelspec": {
   "display_name": "Python [conda env:rannala_project]",
   "language": "python",
   "name": "conda-env-rannala_project-py"
  },
  "language_info": {
   "codemirror_mode": {
    "name": "ipython",
    "version": 3
   },
   "file_extension": ".py",
   "mimetype": "text/x-python",
   "name": "python",
   "nbconvert_exporter": "python",
   "pygments_lexer": "ipython3",
   "version": "3.6.7"
  }
 },
 "nbformat": 4,
 "nbformat_minor": 2
}
